{
 "cells": [
  {
   "cell_type": "markdown",
   "metadata": {
    "application/vnd.databricks.v1+cell": {
     "cellMetadata": {},
     "inputWidgets": {},
     "nuid": "ffb07a5e-800c-41a9-b477-3ef5fb4a9181",
     "showTitle": false,
     "title": ""
    }
   },
   "source": [
    "Adding parquet files to the gold folder of the employees container"
   ]
  },
  {
   "cell_type": "code",
   "execution_count": 0,
   "metadata": {
    "application/vnd.databricks.v1+cell": {
     "cellMetadata": {
      "byteLimit": 2048000,
      "rowLimit": 10000
     },
     "inputWidgets": {},
     "nuid": "187e692f-e66a-46b9-9c3a-4f8bacc9c8ae",
     "showTitle": false,
     "title": ""
    }
   },
   "outputs": [],
   "source": [
    "\n",
    "from pyspark.sql.types import * \n",
    "from pyspark.sql.functions import *"
   ]
  },
  {
   "cell_type": "code",
   "execution_count": 0,
   "metadata": {
    "application/vnd.databricks.v1+cell": {
     "cellMetadata": {
      "byteLimit": 2048000,
      "rowLimit": 10000
     },
     "inputWidgets": {},
     "nuid": "841863be-1b0e-4d35-bf95-933486d01f85",
     "showTitle": false,
     "title": ""
    }
   },
   "outputs": [],
   "source": [
    "employees = spark.read.parquet(\"dbfs:/FileStore/tables/employees_medallion/silver/employees\")\n",
    "dept=spark.read.parquet(\"dbfs:/FileStore/tables/employees_medallion/silver/dept\")\n",
    "countries= spark.read.parquet(\"dbfs:/FileStore/tables/employees_medallion/silver/countries\")\n"
   ]
  },
  {
   "cell_type": "code",
   "execution_count": 0,
   "metadata": {
    "application/vnd.databricks.v1+cell": {
     "cellMetadata": {
      "byteLimit": 2048000,
      "rowLimit": 10000
     },
     "inputWidgets": {},
     "nuid": "94d3c835-f1c5-4ba0-90d2-9cf6b347ce0d",
     "showTitle": false,
     "title": ""
    }
   },
   "outputs": [],
   "source": [
    "# create a new column called full_name via the withColumn method and using the concat_ws function\n",
    "\n",
    "employees=employees.withColumn(\"FULL_NAME\", concat_ws(' ', employees['FIRST_NAME'], employees['LAST_NAME']))"
   ]
  },
  {
   "cell_type": "code",
   "execution_count": 0,
   "metadata": {
    "application/vnd.databricks.v1+cell": {
     "cellMetadata": {
      "byteLimit": 2048000,
      "rowLimit": 10000
     },
     "inputWidgets": {},
     "nuid": "5c1d4497-e970-499b-bb6b-43f031ac6c3c",
     "showTitle": false,
     "title": ""
    }
   },
   "outputs": [
    {
     "output_type": "display_data",
     "data": {
      "text/html": [
       "<style scoped>\n",
       "  .table-result-container {\n",
       "    max-height: 300px;\n",
       "    overflow: auto;\n",
       "  }\n",
       "  table, th, td {\n",
       "    border: 1px solid black;\n",
       "    border-collapse: collapse;\n",
       "  }\n",
       "  th, td {\n",
       "    padding: 5px;\n",
       "  }\n",
       "  th {\n",
       "    text-align: left;\n",
       "  }\n",
       "</style><div class='table-result-container'><table class='table-result'><thead style='background-color: white'><tr><th>EMPLOYEE_ID</th><th>FIRST_NAME</th><th>LAST_NAME</th><th>HIRE_DATE</th><th>JOB_ID</th><th>SALARY</th><th>MANAGER_ID</th><th>DEPARTMENT_ID</th><th>FULL_NAME</th></tr></thead><tbody><tr><td>100</td><td>Steven</td><td>King</td><td>2009-09-01</td><td>AD_PRES</td><td>24000</td><td>null</td><td>90</td><td>Steven King</td></tr><tr><td>101</td><td>Neena</td><td>Kochhar</td><td>2011-12-07</td><td>AD_VP</td><td>17000</td><td>100</td><td>90</td><td>Neena Kochhar</td></tr><tr><td>102</td><td>Lex</td><td>De Haan</td><td>2015-03-31</td><td>AD_VP</td><td>17000</td><td>100</td><td>90</td><td>Lex De Haan</td></tr><tr><td>103</td><td>Alexander</td><td>Hunold</td><td>2012-03-20</td><td>IT_PROG</td><td>9000</td><td>102</td><td>60</td><td>Alexander Hunold</td></tr><tr><td>104</td><td>Bruce</td><td>Ernst</td><td>2013-08-05</td><td>IT_PROG</td><td>6000</td><td>103</td><td>60</td><td>Bruce Ernst</td></tr><tr><td>105</td><td>David</td><td>Austin</td><td>2019-09-10</td><td>IT_PROG</td><td>4800</td><td>103</td><td>60</td><td>David Austin</td></tr><tr><td>106</td><td>Valli</td><td>Pataballa</td><td>2020-04-22</td><td>IT_PROG</td><td>4800</td><td>103</td><td>60</td><td>Valli Pataballa</td></tr><tr><td>107</td><td>Diana</td><td>Lorentz</td><td>2021-04-24</td><td>IT_PROG</td><td>4200</td><td>103</td><td>60</td><td>Diana Lorentz</td></tr><tr><td>108</td><td>Nancy</td><td>Greenberg</td><td>2016-11-01</td><td>FI_MGR</td><td>12000</td><td>101</td><td>100</td><td>Nancy Greenberg</td></tr><tr><td>109</td><td>Daniel</td><td>Faviet</td><td>2016-10-31</td><td>FI_ACCOUNT</td><td>9000</td><td>108</td><td>100</td><td>Daniel Faviet</td></tr><tr><td>110</td><td>John</td><td>Chen</td><td>2019-12-14</td><td>FI_ACCOUNT</td><td>8200</td><td>108</td><td>100</td><td>John Chen</td></tr><tr><td>111</td><td>Ismael</td><td>Sciarra</td><td>2019-12-16</td><td>FI_ACCOUNT</td><td>7700</td><td>108</td><td>100</td><td>Ismael Sciarra</td></tr><tr><td>112</td><td>Jose Manuel</td><td>Urman</td><td>2020-05-22</td><td>FI_ACCOUNT</td><td>7800</td><td>108</td><td>100</td><td>Jose Manuel Urman</td></tr><tr><td>113</td><td>Luis</td><td>Popp</td><td>2022-02-21</td><td>FI_ACCOUNT</td><td>6900</td><td>108</td><td>100</td><td>Luis Popp</td></tr><tr><td>114</td><td>Den</td><td>Raphaely</td><td>2017-02-21</td><td>PU_MAN</td><td>11000</td><td>100</td><td>30</td><td>Den Raphaely</td></tr><tr><td>115</td><td>Alexander</td><td>Khoo</td><td>2017-08-02</td><td>PU_CLERK</td><td>3100</td><td>114</td><td>30</td><td>Alexander Khoo</td></tr><tr><td>116</td><td>Shelli</td><td>Baida</td><td>2020-03-10</td><td>PU_CLERK</td><td>2900</td><td>114</td><td>30</td><td>Shelli Baida</td></tr><tr><td>117</td><td>Sigal</td><td>Tobias</td><td>2019-10-09</td><td>PU_CLERK</td><td>2800</td><td>114</td><td>30</td><td>Sigal Tobias</td></tr><tr><td>118</td><td>Guy</td><td>Himuro</td><td>2021-01-30</td><td>PU_CLERK</td><td>2600</td><td>114</td><td>30</td><td>Guy Himuro</td></tr><tr><td>119</td><td>Karen</td><td>Colmenares</td><td>2021-10-25</td><td>PU_CLERK</td><td>2500</td><td>114</td><td>30</td><td>Karen Colmenares</td></tr><tr><td>120</td><td>Matthew</td><td>Weiss</td><td>2018-10-03</td><td>ST_MAN</td><td>8000</td><td>100</td><td>50</td><td>Matthew Weiss</td></tr><tr><td>121</td><td>Adam</td><td>Fripp</td><td>2019-06-26</td><td>ST_MAN</td><td>8200</td><td>100</td><td>50</td><td>Adam Fripp</td></tr><tr><td>122</td><td>Payam</td><td>Kaufling</td><td>2017-07-16</td><td>ST_MAN</td><td>7900</td><td>100</td><td>50</td><td>Payam Kaufling</td></tr><tr><td>123</td><td>Shanta</td><td>Vollman</td><td>2019-12-26</td><td>ST_MAN</td><td>6500</td><td>100</td><td>50</td><td>Shanta Vollman</td></tr><tr><td>124</td><td>Kevin</td><td>Mourgos</td><td>2022-01-31</td><td>ST_MAN</td><td>5800</td><td>100</td><td>50</td><td>Kevin Mourgos</td></tr><tr><td>125</td><td>Julia</td><td>Nayer</td><td>2019-10-01</td><td>ST_CLERK</td><td>3200</td><td>120</td><td>50</td><td>Julia Nayer</td></tr><tr><td>126</td><td>Irene</td><td>Mikkilineni</td><td>2020-12-13</td><td>ST_CLERK</td><td>2700</td><td>120</td><td>50</td><td>Irene Mikkilineni</td></tr><tr><td>127</td><td>James</td><td>Landry</td><td>2021-03-31</td><td>ST_CLERK</td><td>2400</td><td>120</td><td>50</td><td>James Landry</td></tr><tr><td>128</td><td>Steven</td><td>Markle</td><td>2022-05-24</td><td>ST_CLERK</td><td>2200</td><td>120</td><td>50</td><td>Steven Markle</td></tr><tr><td>129</td><td>Laura</td><td>Bissot</td><td>2019-11-05</td><td>ST_CLERK</td><td>3300</td><td>121</td><td>50</td><td>Laura Bissot</td></tr><tr><td>130</td><td>Mozhe</td><td>Atkinson</td><td>2020-01-15</td><td>ST_CLERK</td><td>2800</td><td>121</td><td>50</td><td>Mozhe Atkinson</td></tr><tr><td>131</td><td>James</td><td>Marlow</td><td>2019-05-04</td><td>ST_CLERK</td><td>2500</td><td>121</td><td>50</td><td>James Marlow</td></tr><tr><td>132</td><td>TJ</td><td>Olson</td><td>2021-06-25</td><td>ST_CLERK</td><td>2100</td><td>121</td><td>50</td><td>TJ Olson</td></tr><tr><td>133</td><td>Jason</td><td>Mallin</td><td>2018-08-30</td><td>ST_CLERK</td><td>3300</td><td>122</td><td>50</td><td>Jason Mallin</td></tr><tr><td>134</td><td>Michael</td><td>Rogers</td><td>2020-11-10</td><td>ST_CLERK</td><td>2900</td><td>122</td><td>50</td><td>Michael Rogers</td></tr><tr><td>135</td><td>Ki</td><td>Gee</td><td>2022-02-26</td><td>ST_CLERK</td><td>2400</td><td>122</td><td>50</td><td>Ki Gee</td></tr><tr><td>136</td><td>Hazel</td><td>Philtanker</td><td>2022-04-23</td><td>ST_CLERK</td><td>2200</td><td>122</td><td>50</td><td>Hazel Philtanker</td></tr><tr><td>137</td><td>Renske</td><td>Ladwig</td><td>2017-09-28</td><td>ST_CLERK</td><td>3600</td><td>123</td><td>50</td><td>Renske Ladwig</td></tr><tr><td>138</td><td>Stephen</td><td>Stiles</td><td>2020-01-11</td><td>ST_CLERK</td><td>3200</td><td>123</td><td>50</td><td>Stephen Stiles</td></tr><tr><td>139</td><td>John</td><td>Seo</td><td>2020-04-29</td><td>ST_CLERK</td><td>2700</td><td>123</td><td>50</td><td>John Seo</td></tr><tr><td>140</td><td>Joshua</td><td>Patel</td><td>2020-06-21</td><td>ST_CLERK</td><td>2500</td><td>123</td><td>50</td><td>Joshua Patel</td></tr><tr><td>141</td><td>Trenna</td><td>Rajs</td><td>2018-01-01</td><td>ST_CLERK</td><td>3500</td><td>124</td><td>50</td><td>Trenna Rajs</td></tr><tr><td>142</td><td>Curtis</td><td>Davies</td><td>2019-04-16</td><td>ST_CLERK</td><td>3100</td><td>124</td><td>50</td><td>Curtis Davies</td></tr><tr><td>143</td><td>Randall</td><td>Matos</td><td>2020-05-30</td><td>ST_CLERK</td><td>2600</td><td>124</td><td>50</td><td>Randall Matos</td></tr><tr><td>144</td><td>Peter</td><td>Vargas</td><td>2020-09-23</td><td>ST_CLERK</td><td>2500</td><td>124</td><td>50</td><td>Peter Vargas</td></tr><tr><td>145</td><td>John</td><td>Russell</td><td>2018-12-17</td><td>SA_MAN</td><td>14000</td><td>100</td><td>80</td><td>John Russell</td></tr><tr><td>146</td><td>Karen</td><td>Partners</td><td>2019-03-23</td><td>SA_MAN</td><td>13500</td><td>100</td><td>80</td><td>Karen Partners</td></tr><tr><td>147</td><td>Alberto</td><td>Errazuriz</td><td>2019-05-26</td><td>SA_MAN</td><td>12000</td><td>100</td><td>80</td><td>Alberto Errazuriz</td></tr><tr><td>148</td><td>Gerald</td><td>Cambrault</td><td>2021-12-30</td><td>SA_MAN</td><td>11000</td><td>100</td><td>80</td><td>Gerald Cambrault</td></tr><tr><td>149</td><td>Eleni</td><td>Zlotkey</td><td>2022-04-15</td><td>SA_MAN</td><td>10500</td><td>100</td><td>80</td><td>Eleni Zlotkey</td></tr><tr><td>150</td><td>Peter</td><td>Tucker</td><td>2019-04-17</td><td>SA_REP</td><td>10000</td><td>145</td><td>80</td><td>Peter Tucker</td></tr><tr><td>151</td><td>David</td><td>Bernstein</td><td>2019-06-09</td><td>SA_REP</td><td>9500</td><td>145</td><td>80</td><td>David Bernstein</td></tr><tr><td>152</td><td>Peter</td><td>Hall</td><td>2019-11-05</td><td>SA_REP</td><td>9000</td><td>145</td><td>80</td><td>Peter Hall</td></tr><tr><td>153</td><td>Christopher</td><td>Olsen</td><td>2020-06-14</td><td>SA_REP</td><td>8000</td><td>145</td><td>80</td><td>Christopher Olsen</td></tr><tr><td>154</td><td>Nanette</td><td>Cambrault</td><td>2021-02-23</td><td>SA_REP</td><td>7500</td><td>145</td><td>80</td><td>Nanette Cambrault</td></tr><tr><td>155</td><td>Oliver</td><td>Tuvault</td><td>2022-02-07</td><td>SA_REP</td><td>7000</td><td>145</td><td>80</td><td>Oliver Tuvault</td></tr><tr><td>156</td><td>Janette</td><td>King</td><td>2018-04-16</td><td>SA_REP</td><td>10000</td><td>146</td><td>80</td><td>Janette King</td></tr><tr><td>157</td><td>Patrick</td><td>Sully</td><td>2018-05-20</td><td>SA_REP</td><td>9500</td><td>146</td><td>80</td><td>Patrick Sully</td></tr><tr><td>158</td><td>Allan</td><td>McEwen</td><td>2018-10-17</td><td>SA_REP</td><td>9000</td><td>146</td><td>80</td><td>Allan McEwen</td></tr><tr><td>159</td><td>Lindsey</td><td>Smith</td><td>2019-05-26</td><td>SA_REP</td><td>8000</td><td>146</td><td>80</td><td>Lindsey Smith</td></tr><tr><td>160</td><td>Louise</td><td>Doran</td><td>2020-03-01</td><td>SA_REP</td><td>7500</td><td>146</td><td>80</td><td>Louise Doran</td></tr><tr><td>161</td><td>Sarath</td><td>Sewall</td><td>2021-01-18</td><td>SA_REP</td><td>7000</td><td>146</td><td>80</td><td>Sarath Sewall</td></tr><tr><td>162</td><td>Clara</td><td>Vishney</td><td>2020-01-27</td><td>SA_REP</td><td>10500</td><td>147</td><td>80</td><td>Clara Vishney</td></tr><tr><td>163</td><td>Danielle</td><td>Greene</td><td>2021-06-03</td><td>SA_REP</td><td>9500</td><td>147</td><td>80</td><td>Danielle Greene</td></tr><tr><td>164</td><td>Mattea</td><td>Marvins</td><td>2022-04-10</td><td>SA_REP</td><td>7200</td><td>147</td><td>80</td><td>Mattea Marvins</td></tr><tr><td>165</td><td>David</td><td>Lee</td><td>2022-05-10</td><td>SA_REP</td><td>6800</td><td>147</td><td>80</td><td>David Lee</td></tr><tr><td>166</td><td>Sundar</td><td>Ande</td><td>2022-06-09</td><td>SA_REP</td><td>6400</td><td>147</td><td>80</td><td>Sundar Ande</td></tr><tr><td>167</td><td>Amit</td><td>Banda</td><td>2022-07-07</td><td>SA_REP</td><td>6200</td><td>147</td><td>80</td><td>Amit Banda</td></tr><tr><td>168</td><td>Lisa</td><td>Ozer</td><td>2019-05-27</td><td>SA_REP</td><td>11500</td><td>148</td><td>80</td><td>Lisa Ozer</td></tr><tr><td>169</td><td>Harrison</td><td>Bloom</td><td>2020-06-07</td><td>SA_REP</td><td>10000</td><td>148</td><td>80</td><td>Harrison Bloom</td></tr><tr><td>170</td><td>Tayler</td><td>Fox</td><td>2020-04-10</td><td>SA_REP</td><td>9600</td><td>148</td><td>80</td><td>Tayler Fox</td></tr><tr><td>171</td><td>William</td><td>Smith</td><td>2021-05-10</td><td>SA_REP</td><td>7400</td><td>148</td><td>80</td><td>William Smith</td></tr><tr><td>172</td><td>Elizabeth</td><td>Bates</td><td>2021-06-08</td><td>SA_REP</td><td>7300</td><td>148</td><td>80</td><td>Elizabeth Bates</td></tr><tr><td>173</td><td>Sundita</td><td>Kumar</td><td>2022-07-07</td><td>SA_REP</td><td>6100</td><td>148</td><td>80</td><td>Sundita Kumar</td></tr><tr><td>174</td><td>Ellen</td><td>Abel</td><td>2018-07-27</td><td>SA_REP</td><td>11000</td><td>149</td><td>80</td><td>Ellen Abel</td></tr><tr><td>175</td><td>Alyssa</td><td>Hutton</td><td>2019-06-04</td><td>SA_REP</td><td>8800</td><td>149</td><td>80</td><td>Alyssa Hutton</td></tr><tr><td>176</td><td>Jonathon</td><td>Taylor</td><td>2020-06-08</td><td>SA_REP</td><td>8600</td><td>149</td><td>80</td><td>Jonathon Taylor</td></tr><tr><td>177</td><td>Jack</td><td>Livingston</td><td>2020-07-08</td><td>SA_REP</td><td>8400</td><td>149</td><td>80</td><td>Jack Livingston</td></tr><tr><td>178</td><td>Kimberely</td><td>Grant</td><td>2021-08-08</td><td>SA_REP</td><td>7000</td><td>149</td><td>null</td><td>Kimberely Grant</td></tr><tr><td>179</td><td>Charles</td><td>Johnson</td><td>2022-03-21</td><td>SA_REP</td><td>6200</td><td>149</td><td>80</td><td>Charles Johnson</td></tr><tr><td>180</td><td>Winston</td><td>Taylor</td><td>2020-04-10</td><td>SH_CLERK</td><td>3200</td><td>120</td><td>50</td><td>Winston Taylor</td></tr><tr><td>181</td><td>Jean</td><td>Fleaur</td><td>2020-05-10</td><td>SH_CLERK</td><td>3100</td><td>120</td><td>50</td><td>Jean Fleaur</td></tr><tr><td>182</td><td>Martha</td><td>Sullivan</td><td>2021-09-05</td><td>SH_CLERK</td><td>2500</td><td>120</td><td>50</td><td>Martha Sullivan</td></tr><tr><td>183</td><td>Girard</td><td>Geoni</td><td>2022-04-20</td><td>SH_CLERK</td><td>2800</td><td>120</td><td>50</td><td>Girard Geoni</td></tr><tr><td>184</td><td>Nandita</td><td>Sarchand</td><td>2018-04-13</td><td>SH_CLERK</td><td>4200</td><td>121</td><td>50</td><td>Nandita Sarchand</td></tr><tr><td>185</td><td>Alexis</td><td>Bull</td><td>2019-05-08</td><td>SH_CLERK</td><td>4100</td><td>121</td><td>50</td><td>Alexis Bull</td></tr><tr><td>186</td><td>Julia</td><td>Dellinger</td><td>2020-09-08</td><td>SH_CLERK</td><td>3400</td><td>121</td><td>50</td><td>Julia Dellinger</td></tr><tr><td>187</td><td>Anthony</td><td>Cabrio</td><td>2021-04-24</td><td>SH_CLERK</td><td>3000</td><td>121</td><td>50</td><td>Anthony Cabrio</td></tr><tr><td>188</td><td>Kelly</td><td>Chung</td><td>2019-08-30</td><td>SH_CLERK</td><td>3800</td><td>122</td><td>50</td><td>Kelly Chung</td></tr><tr><td>189</td><td>Jennifer</td><td>Dilly</td><td>2019-10-29</td><td>SH_CLERK</td><td>3600</td><td>122</td><td>50</td><td>Jennifer Dilly</td></tr><tr><td>190</td><td>Timothy</td><td>Gates</td><td>2020-09-25</td><td>SH_CLERK</td><td>2900</td><td>122</td><td>50</td><td>Timothy Gates</td></tr><tr><td>191</td><td>Randall</td><td>Perkins</td><td>2022-03-05</td><td>SH_CLERK</td><td>2500</td><td>122</td><td>50</td><td>Randall Perkins</td></tr><tr><td>192</td><td>Sarah</td><td>Bell</td><td>2018-04-21</td><td>SH_CLERK</td><td>4000</td><td>123</td><td>50</td><td>Sarah Bell</td></tr><tr><td>193</td><td>Britney</td><td>Everett</td><td>2019-05-19</td><td>SH_CLERK</td><td>3900</td><td>123</td><td>50</td><td>Britney Everett</td></tr><tr><td>194</td><td>Samuel</td><td>McCain</td><td>2020-09-15</td><td>SH_CLERK</td><td>3200</td><td>123</td><td>50</td><td>Samuel McCain</td></tr><tr><td>195</td><td>Vance</td><td>Jones</td><td>2021-06-01</td><td>SH_CLERK</td><td>2800</td><td>123</td><td>50</td><td>Vance Jones</td></tr><tr><td>196</td><td>Alana</td><td>Walsh</td><td>2020-07-09</td><td>SH_CLERK</td><td>3100</td><td>124</td><td>50</td><td>Alana Walsh</td></tr><tr><td>197</td><td>Kevin</td><td>Feeney</td><td>2020-08-07</td><td>SH_CLERK</td><td>3000</td><td>124</td><td>50</td><td>Kevin Feeney</td></tr><tr><td>198</td><td>Donald</td><td>OConnell</td><td>2021-09-05</td><td>SH_CLERK</td><td>2600</td><td>124</td><td>50</td><td>Donald OConnell</td></tr><tr><td>199</td><td>Douglas</td><td>Grant</td><td>2022-03-30</td><td>SH_CLERK</td><td>2600</td><td>124</td><td>50</td><td>Douglas Grant</td></tr><tr><td>200</td><td>Jennifer</td><td>Whalen</td><td>2009-12-02</td><td>AD_ASST</td><td>4400</td><td>101</td><td>10</td><td>Jennifer Whalen</td></tr><tr><td>201</td><td>Michael</td><td>Hartstein</td><td>2018-05-04</td><td>MK_MAN</td><td>13000</td><td>100</td><td>20</td><td>Michael Hartstein</td></tr><tr><td>202</td><td>Pat</td><td>Fay</td><td>2019-11-02</td><td>MK_REP</td><td>6000</td><td>201</td><td>20</td><td>Pat Fay</td></tr><tr><td>203</td><td>Susan</td><td>Mavris</td><td>2016-08-22</td><td>HR_REP</td><td>6500</td><td>101</td><td>40</td><td>Susan Mavris</td></tr><tr><td>204</td><td>Hermann</td><td>Baer</td><td>2016-08-22</td><td>PR_REP</td><td>10000</td><td>101</td><td>70</td><td>Hermann Baer</td></tr><tr><td>205</td><td>Shelley</td><td>Higgins</td><td>2016-08-22</td><td>AC_MGR</td><td>12000</td><td>101</td><td>110</td><td>Shelley Higgins</td></tr><tr><td>206</td><td>William</td><td>Gietz</td><td>2016-08-22</td><td>AC_ACCOUNT</td><td>8300</td><td>205</td><td>110</td><td>William Gietz</td></tr></tbody></table></div>"
      ]
     },
     "metadata": {
      "application/vnd.databricks.v1+output": {
       "addedWidgets": {},
       "aggData": [],
       "aggError": "",
       "aggOverflow": false,
       "aggSchema": [],
       "aggSeriesLimitReached": false,
       "aggType": "",
       "arguments": {},
       "columnCustomDisplayInfos": {},
       "data": [
        [
         100,
         "Steven",
         "King",
         "2009-09-01",
         "AD_PRES",
         24000,
         null,
         90,
         "Steven King"
        ],
        [
         101,
         "Neena",
         "Kochhar",
         "2011-12-07",
         "AD_VP",
         17000,
         100,
         90,
         "Neena Kochhar"
        ],
        [
         102,
         "Lex",
         "De Haan",
         "2015-03-31",
         "AD_VP",
         17000,
         100,
         90,
         "Lex De Haan"
        ],
        [
         103,
         "Alexander",
         "Hunold",
         "2012-03-20",
         "IT_PROG",
         9000,
         102,
         60,
         "Alexander Hunold"
        ],
        [
         104,
         "Bruce",
         "Ernst",
         "2013-08-05",
         "IT_PROG",
         6000,
         103,
         60,
         "Bruce Ernst"
        ],
        [
         105,
         "David",
         "Austin",
         "2019-09-10",
         "IT_PROG",
         4800,
         103,
         60,
         "David Austin"
        ],
        [
         106,
         "Valli",
         "Pataballa",
         "2020-04-22",
         "IT_PROG",
         4800,
         103,
         60,
         "Valli Pataballa"
        ],
        [
         107,
         "Diana",
         "Lorentz",
         "2021-04-24",
         "IT_PROG",
         4200,
         103,
         60,
         "Diana Lorentz"
        ],
        [
         108,
         "Nancy",
         "Greenberg",
         "2016-11-01",
         "FI_MGR",
         12000,
         101,
         100,
         "Nancy Greenberg"
        ],
        [
         109,
         "Daniel",
         "Faviet",
         "2016-10-31",
         "FI_ACCOUNT",
         9000,
         108,
         100,
         "Daniel Faviet"
        ],
        [
         110,
         "John",
         "Chen",
         "2019-12-14",
         "FI_ACCOUNT",
         8200,
         108,
         100,
         "John Chen"
        ],
        [
         111,
         "Ismael",
         "Sciarra",
         "2019-12-16",
         "FI_ACCOUNT",
         7700,
         108,
         100,
         "Ismael Sciarra"
        ],
        [
         112,
         "Jose Manuel",
         "Urman",
         "2020-05-22",
         "FI_ACCOUNT",
         7800,
         108,
         100,
         "Jose Manuel Urman"
        ],
        [
         113,
         "Luis",
         "Popp",
         "2022-02-21",
         "FI_ACCOUNT",
         6900,
         108,
         100,
         "Luis Popp"
        ],
        [
         114,
         "Den",
         "Raphaely",
         "2017-02-21",
         "PU_MAN",
         11000,
         100,
         30,
         "Den Raphaely"
        ],
        [
         115,
         "Alexander",
         "Khoo",
         "2017-08-02",
         "PU_CLERK",
         3100,
         114,
         30,
         "Alexander Khoo"
        ],
        [
         116,
         "Shelli",
         "Baida",
         "2020-03-10",
         "PU_CLERK",
         2900,
         114,
         30,
         "Shelli Baida"
        ],
        [
         117,
         "Sigal",
         "Tobias",
         "2019-10-09",
         "PU_CLERK",
         2800,
         114,
         30,
         "Sigal Tobias"
        ],
        [
         118,
         "Guy",
         "Himuro",
         "2021-01-30",
         "PU_CLERK",
         2600,
         114,
         30,
         "Guy Himuro"
        ],
        [
         119,
         "Karen",
         "Colmenares",
         "2021-10-25",
         "PU_CLERK",
         2500,
         114,
         30,
         "Karen Colmenares"
        ],
        [
         120,
         "Matthew",
         "Weiss",
         "2018-10-03",
         "ST_MAN",
         8000,
         100,
         50,
         "Matthew Weiss"
        ],
        [
         121,
         "Adam",
         "Fripp",
         "2019-06-26",
         "ST_MAN",
         8200,
         100,
         50,
         "Adam Fripp"
        ],
        [
         122,
         "Payam",
         "Kaufling",
         "2017-07-16",
         "ST_MAN",
         7900,
         100,
         50,
         "Payam Kaufling"
        ],
        [
         123,
         "Shanta",
         "Vollman",
         "2019-12-26",
         "ST_MAN",
         6500,
         100,
         50,
         "Shanta Vollman"
        ],
        [
         124,
         "Kevin",
         "Mourgos",
         "2022-01-31",
         "ST_MAN",
         5800,
         100,
         50,
         "Kevin Mourgos"
        ],
        [
         125,
         "Julia",
         "Nayer",
         "2019-10-01",
         "ST_CLERK",
         3200,
         120,
         50,
         "Julia Nayer"
        ],
        [
         126,
         "Irene",
         "Mikkilineni",
         "2020-12-13",
         "ST_CLERK",
         2700,
         120,
         50,
         "Irene Mikkilineni"
        ],
        [
         127,
         "James",
         "Landry",
         "2021-03-31",
         "ST_CLERK",
         2400,
         120,
         50,
         "James Landry"
        ],
        [
         128,
         "Steven",
         "Markle",
         "2022-05-24",
         "ST_CLERK",
         2200,
         120,
         50,
         "Steven Markle"
        ],
        [
         129,
         "Laura",
         "Bissot",
         "2019-11-05",
         "ST_CLERK",
         3300,
         121,
         50,
         "Laura Bissot"
        ],
        [
         130,
         "Mozhe",
         "Atkinson",
         "2020-01-15",
         "ST_CLERK",
         2800,
         121,
         50,
         "Mozhe Atkinson"
        ],
        [
         131,
         "James",
         "Marlow",
         "2019-05-04",
         "ST_CLERK",
         2500,
         121,
         50,
         "James Marlow"
        ],
        [
         132,
         "TJ",
         "Olson",
         "2021-06-25",
         "ST_CLERK",
         2100,
         121,
         50,
         "TJ Olson"
        ],
        [
         133,
         "Jason",
         "Mallin",
         "2018-08-30",
         "ST_CLERK",
         3300,
         122,
         50,
         "Jason Mallin"
        ],
        [
         134,
         "Michael",
         "Rogers",
         "2020-11-10",
         "ST_CLERK",
         2900,
         122,
         50,
         "Michael Rogers"
        ],
        [
         135,
         "Ki",
         "Gee",
         "2022-02-26",
         "ST_CLERK",
         2400,
         122,
         50,
         "Ki Gee"
        ],
        [
         136,
         "Hazel",
         "Philtanker",
         "2022-04-23",
         "ST_CLERK",
         2200,
         122,
         50,
         "Hazel Philtanker"
        ],
        [
         137,
         "Renske",
         "Ladwig",
         "2017-09-28",
         "ST_CLERK",
         3600,
         123,
         50,
         "Renske Ladwig"
        ],
        [
         138,
         "Stephen",
         "Stiles",
         "2020-01-11",
         "ST_CLERK",
         3200,
         123,
         50,
         "Stephen Stiles"
        ],
        [
         139,
         "John",
         "Seo",
         "2020-04-29",
         "ST_CLERK",
         2700,
         123,
         50,
         "John Seo"
        ],
        [
         140,
         "Joshua",
         "Patel",
         "2020-06-21",
         "ST_CLERK",
         2500,
         123,
         50,
         "Joshua Patel"
        ],
        [
         141,
         "Trenna",
         "Rajs",
         "2018-01-01",
         "ST_CLERK",
         3500,
         124,
         50,
         "Trenna Rajs"
        ],
        [
         142,
         "Curtis",
         "Davies",
         "2019-04-16",
         "ST_CLERK",
         3100,
         124,
         50,
         "Curtis Davies"
        ],
        [
         143,
         "Randall",
         "Matos",
         "2020-05-30",
         "ST_CLERK",
         2600,
         124,
         50,
         "Randall Matos"
        ],
        [
         144,
         "Peter",
         "Vargas",
         "2020-09-23",
         "ST_CLERK",
         2500,
         124,
         50,
         "Peter Vargas"
        ],
        [
         145,
         "John",
         "Russell",
         "2018-12-17",
         "SA_MAN",
         14000,
         100,
         80,
         "John Russell"
        ],
        [
         146,
         "Karen",
         "Partners",
         "2019-03-23",
         "SA_MAN",
         13500,
         100,
         80,
         "Karen Partners"
        ],
        [
         147,
         "Alberto",
         "Errazuriz",
         "2019-05-26",
         "SA_MAN",
         12000,
         100,
         80,
         "Alberto Errazuriz"
        ],
        [
         148,
         "Gerald",
         "Cambrault",
         "2021-12-30",
         "SA_MAN",
         11000,
         100,
         80,
         "Gerald Cambrault"
        ],
        [
         149,
         "Eleni",
         "Zlotkey",
         "2022-04-15",
         "SA_MAN",
         10500,
         100,
         80,
         "Eleni Zlotkey"
        ],
        [
         150,
         "Peter",
         "Tucker",
         "2019-04-17",
         "SA_REP",
         10000,
         145,
         80,
         "Peter Tucker"
        ],
        [
         151,
         "David",
         "Bernstein",
         "2019-06-09",
         "SA_REP",
         9500,
         145,
         80,
         "David Bernstein"
        ],
        [
         152,
         "Peter",
         "Hall",
         "2019-11-05",
         "SA_REP",
         9000,
         145,
         80,
         "Peter Hall"
        ],
        [
         153,
         "Christopher",
         "Olsen",
         "2020-06-14",
         "SA_REP",
         8000,
         145,
         80,
         "Christopher Olsen"
        ],
        [
         154,
         "Nanette",
         "Cambrault",
         "2021-02-23",
         "SA_REP",
         7500,
         145,
         80,
         "Nanette Cambrault"
        ],
        [
         155,
         "Oliver",
         "Tuvault",
         "2022-02-07",
         "SA_REP",
         7000,
         145,
         80,
         "Oliver Tuvault"
        ],
        [
         156,
         "Janette",
         "King",
         "2018-04-16",
         "SA_REP",
         10000,
         146,
         80,
         "Janette King"
        ],
        [
         157,
         "Patrick",
         "Sully",
         "2018-05-20",
         "SA_REP",
         9500,
         146,
         80,
         "Patrick Sully"
        ],
        [
         158,
         "Allan",
         "McEwen",
         "2018-10-17",
         "SA_REP",
         9000,
         146,
         80,
         "Allan McEwen"
        ],
        [
         159,
         "Lindsey",
         "Smith",
         "2019-05-26",
         "SA_REP",
         8000,
         146,
         80,
         "Lindsey Smith"
        ],
        [
         160,
         "Louise",
         "Doran",
         "2020-03-01",
         "SA_REP",
         7500,
         146,
         80,
         "Louise Doran"
        ],
        [
         161,
         "Sarath",
         "Sewall",
         "2021-01-18",
         "SA_REP",
         7000,
         146,
         80,
         "Sarath Sewall"
        ],
        [
         162,
         "Clara",
         "Vishney",
         "2020-01-27",
         "SA_REP",
         10500,
         147,
         80,
         "Clara Vishney"
        ],
        [
         163,
         "Danielle",
         "Greene",
         "2021-06-03",
         "SA_REP",
         9500,
         147,
         80,
         "Danielle Greene"
        ],
        [
         164,
         "Mattea",
         "Marvins",
         "2022-04-10",
         "SA_REP",
         7200,
         147,
         80,
         "Mattea Marvins"
        ],
        [
         165,
         "David",
         "Lee",
         "2022-05-10",
         "SA_REP",
         6800,
         147,
         80,
         "David Lee"
        ],
        [
         166,
         "Sundar",
         "Ande",
         "2022-06-09",
         "SA_REP",
         6400,
         147,
         80,
         "Sundar Ande"
        ],
        [
         167,
         "Amit",
         "Banda",
         "2022-07-07",
         "SA_REP",
         6200,
         147,
         80,
         "Amit Banda"
        ],
        [
         168,
         "Lisa",
         "Ozer",
         "2019-05-27",
         "SA_REP",
         11500,
         148,
         80,
         "Lisa Ozer"
        ],
        [
         169,
         "Harrison",
         "Bloom",
         "2020-06-07",
         "SA_REP",
         10000,
         148,
         80,
         "Harrison Bloom"
        ],
        [
         170,
         "Tayler",
         "Fox",
         "2020-04-10",
         "SA_REP",
         9600,
         148,
         80,
         "Tayler Fox"
        ],
        [
         171,
         "William",
         "Smith",
         "2021-05-10",
         "SA_REP",
         7400,
         148,
         80,
         "William Smith"
        ],
        [
         172,
         "Elizabeth",
         "Bates",
         "2021-06-08",
         "SA_REP",
         7300,
         148,
         80,
         "Elizabeth Bates"
        ],
        [
         173,
         "Sundita",
         "Kumar",
         "2022-07-07",
         "SA_REP",
         6100,
         148,
         80,
         "Sundita Kumar"
        ],
        [
         174,
         "Ellen",
         "Abel",
         "2018-07-27",
         "SA_REP",
         11000,
         149,
         80,
         "Ellen Abel"
        ],
        [
         175,
         "Alyssa",
         "Hutton",
         "2019-06-04",
         "SA_REP",
         8800,
         149,
         80,
         "Alyssa Hutton"
        ],
        [
         176,
         "Jonathon",
         "Taylor",
         "2020-06-08",
         "SA_REP",
         8600,
         149,
         80,
         "Jonathon Taylor"
        ],
        [
         177,
         "Jack",
         "Livingston",
         "2020-07-08",
         "SA_REP",
         8400,
         149,
         80,
         "Jack Livingston"
        ],
        [
         178,
         "Kimberely",
         "Grant",
         "2021-08-08",
         "SA_REP",
         7000,
         149,
         null,
         "Kimberely Grant"
        ],
        [
         179,
         "Charles",
         "Johnson",
         "2022-03-21",
         "SA_REP",
         6200,
         149,
         80,
         "Charles Johnson"
        ],
        [
         180,
         "Winston",
         "Taylor",
         "2020-04-10",
         "SH_CLERK",
         3200,
         120,
         50,
         "Winston Taylor"
        ],
        [
         181,
         "Jean",
         "Fleaur",
         "2020-05-10",
         "SH_CLERK",
         3100,
         120,
         50,
         "Jean Fleaur"
        ],
        [
         182,
         "Martha",
         "Sullivan",
         "2021-09-05",
         "SH_CLERK",
         2500,
         120,
         50,
         "Martha Sullivan"
        ],
        [
         183,
         "Girard",
         "Geoni",
         "2022-04-20",
         "SH_CLERK",
         2800,
         120,
         50,
         "Girard Geoni"
        ],
        [
         184,
         "Nandita",
         "Sarchand",
         "2018-04-13",
         "SH_CLERK",
         4200,
         121,
         50,
         "Nandita Sarchand"
        ],
        [
         185,
         "Alexis",
         "Bull",
         "2019-05-08",
         "SH_CLERK",
         4100,
         121,
         50,
         "Alexis Bull"
        ],
        [
         186,
         "Julia",
         "Dellinger",
         "2020-09-08",
         "SH_CLERK",
         3400,
         121,
         50,
         "Julia Dellinger"
        ],
        [
         187,
         "Anthony",
         "Cabrio",
         "2021-04-24",
         "SH_CLERK",
         3000,
         121,
         50,
         "Anthony Cabrio"
        ],
        [
         188,
         "Kelly",
         "Chung",
         "2019-08-30",
         "SH_CLERK",
         3800,
         122,
         50,
         "Kelly Chung"
        ],
        [
         189,
         "Jennifer",
         "Dilly",
         "2019-10-29",
         "SH_CLERK",
         3600,
         122,
         50,
         "Jennifer Dilly"
        ],
        [
         190,
         "Timothy",
         "Gates",
         "2020-09-25",
         "SH_CLERK",
         2900,
         122,
         50,
         "Timothy Gates"
        ],
        [
         191,
         "Randall",
         "Perkins",
         "2022-03-05",
         "SH_CLERK",
         2500,
         122,
         50,
         "Randall Perkins"
        ],
        [
         192,
         "Sarah",
         "Bell",
         "2018-04-21",
         "SH_CLERK",
         4000,
         123,
         50,
         "Sarah Bell"
        ],
        [
         193,
         "Britney",
         "Everett",
         "2019-05-19",
         "SH_CLERK",
         3900,
         123,
         50,
         "Britney Everett"
        ],
        [
         194,
         "Samuel",
         "McCain",
         "2020-09-15",
         "SH_CLERK",
         3200,
         123,
         50,
         "Samuel McCain"
        ],
        [
         195,
         "Vance",
         "Jones",
         "2021-06-01",
         "SH_CLERK",
         2800,
         123,
         50,
         "Vance Jones"
        ],
        [
         196,
         "Alana",
         "Walsh",
         "2020-07-09",
         "SH_CLERK",
         3100,
         124,
         50,
         "Alana Walsh"
        ],
        [
         197,
         "Kevin",
         "Feeney",
         "2020-08-07",
         "SH_CLERK",
         3000,
         124,
         50,
         "Kevin Feeney"
        ],
        [
         198,
         "Donald",
         "OConnell",
         "2021-09-05",
         "SH_CLERK",
         2600,
         124,
         50,
         "Donald OConnell"
        ],
        [
         199,
         "Douglas",
         "Grant",
         "2022-03-30",
         "SH_CLERK",
         2600,
         124,
         50,
         "Douglas Grant"
        ],
        [
         200,
         "Jennifer",
         "Whalen",
         "2009-12-02",
         "AD_ASST",
         4400,
         101,
         10,
         "Jennifer Whalen"
        ],
        [
         201,
         "Michael",
         "Hartstein",
         "2018-05-04",
         "MK_MAN",
         13000,
         100,
         20,
         "Michael Hartstein"
        ],
        [
         202,
         "Pat",
         "Fay",
         "2019-11-02",
         "MK_REP",
         6000,
         201,
         20,
         "Pat Fay"
        ],
        [
         203,
         "Susan",
         "Mavris",
         "2016-08-22",
         "HR_REP",
         6500,
         101,
         40,
         "Susan Mavris"
        ],
        [
         204,
         "Hermann",
         "Baer",
         "2016-08-22",
         "PR_REP",
         10000,
         101,
         70,
         "Hermann Baer"
        ],
        [
         205,
         "Shelley",
         "Higgins",
         "2016-08-22",
         "AC_MGR",
         12000,
         101,
         110,
         "Shelley Higgins"
        ],
        [
         206,
         "William",
         "Gietz",
         "2016-08-22",
         "AC_ACCOUNT",
         8300,
         205,
         110,
         "William Gietz"
        ]
       ],
       "datasetInfos": [],
       "dbfsResultPath": null,
       "isJsonSchema": true,
       "metadata": {},
       "overflow": false,
       "plotOptions": {
        "customPlotOptions": {},
        "displayType": "table",
        "pivotAggregation": null,
        "pivotColumns": null,
        "xColumns": null,
        "yColumns": null
       },
       "removedWidgets": [],
       "schema": [
        {
         "metadata": "{}",
         "name": "EMPLOYEE_ID",
         "type": "\"integer\""
        },
        {
         "metadata": "{}",
         "name": "FIRST_NAME",
         "type": "\"string\""
        },
        {
         "metadata": "{}",
         "name": "LAST_NAME",
         "type": "\"string\""
        },
        {
         "metadata": "{}",
         "name": "HIRE_DATE",
         "type": "\"date\""
        },
        {
         "metadata": "{}",
         "name": "JOB_ID",
         "type": "\"string\""
        },
        {
         "metadata": "{}",
         "name": "SALARY",
         "type": "\"integer\""
        },
        {
         "metadata": "{}",
         "name": "MANAGER_ID",
         "type": "\"integer\""
        },
        {
         "metadata": "{}",
         "name": "DEPARTMENT_ID",
         "type": "\"integer\""
        },
        {
         "metadata": "{}",
         "name": "FULL_NAME",
         "type": "\"string\""
        }
       ],
       "type": "table"
      }
     },
     "output_type": "display_data"
    }
   ],
   "source": [
    "display(employees)"
   ]
  },
  {
   "cell_type": "code",
   "execution_count": 0,
   "metadata": {
    "application/vnd.databricks.v1+cell": {
     "cellMetadata": {
      "byteLimit": 2048000,
      "rowLimit": 10000
     },
     "inputWidgets": {},
     "nuid": "c85b3fc6-126f-4d57-a259-c1a95460162d",
     "showTitle": false,
     "title": ""
    }
   },
   "outputs": [],
   "source": [
    "# Dropping unnecessary columns\n",
    "employees = employees.drop(\"FIRST_NAME\", \"LAST_NAME\", \"MANAGER_ID\")"
   ]
  },
  {
   "cell_type": "code",
   "execution_count": 0,
   "metadata": {
    "application/vnd.databricks.v1+cell": {
     "cellMetadata": {
      "byteLimit": 2048000,
      "rowLimit": 10000
     },
     "inputWidgets": {},
     "nuid": "8ea79502-3e5e-49d8-8bb8-6f69e874b489",
     "showTitle": false,
     "title": ""
    }
   },
   "outputs": [],
   "source": [
    "# Reading in the departments parquet file from the silver layer\n",
    "dept=spark.read.parquet(\"dbfs:/FileStore/tables/employees_medallion/silver/dept\")"
   ]
  },
  {
   "cell_type": "code",
   "execution_count": 0,
   "metadata": {
    "application/vnd.databricks.v1+cell": {
     "cellMetadata": {
      "byteLimit": 2048000,
      "rowLimit": 10000
     },
     "inputWidgets": {},
     "nuid": "9ef014fe-2aac-4466-a5a7-5911a2001229",
     "showTitle": false,
     "title": ""
    }
   },
   "outputs": [
    {
     "output_type": "display_data",
     "data": {
      "text/html": [
       "<style scoped>\n",
       "  .table-result-container {\n",
       "    max-height: 300px;\n",
       "    overflow: auto;\n",
       "  }\n",
       "  table, th, td {\n",
       "    border: 1px solid black;\n",
       "    border-collapse: collapse;\n",
       "  }\n",
       "  th, td {\n",
       "    padding: 5px;\n",
       "  }\n",
       "  th {\n",
       "    text-align: left;\n",
       "  }\n",
       "</style><div class='table-result-container'><table class='table-result'><thead style='background-color: white'><tr><th>DEPARTMENT_ID</th><th>DEPARTMENT_NAME</th></tr></thead><tbody><tr><td>10</td><td>Administration</td></tr><tr><td>20</td><td>Marketing</td></tr><tr><td>30</td><td>Purchasing</td></tr><tr><td>40</td><td>Human Resources</td></tr><tr><td>50</td><td>Shipping</td></tr><tr><td>60</td><td>IT</td></tr><tr><td>70</td><td>Public Relations</td></tr><tr><td>80</td><td>Sales</td></tr><tr><td>90</td><td>Executive</td></tr><tr><td>100</td><td>Finance</td></tr><tr><td>110</td><td>Accounting</td></tr><tr><td>120</td><td>Treasury</td></tr><tr><td>130</td><td>Corporate Tax</td></tr><tr><td>140</td><td>Control And Credit</td></tr><tr><td>150</td><td>Shareholder Services</td></tr><tr><td>160</td><td>Benefits</td></tr><tr><td>170</td><td>Manufacturing</td></tr><tr><td>180</td><td>Construction</td></tr><tr><td>190</td><td>Contracting</td></tr><tr><td>200</td><td>Operations</td></tr><tr><td>210</td><td>IT Support</td></tr><tr><td>220</td><td>NOC</td></tr><tr><td>230</td><td>IT Helpdesk</td></tr><tr><td>240</td><td>Government Sales</td></tr><tr><td>250</td><td>Retail Sales</td></tr><tr><td>260</td><td>Recruiting</td></tr><tr><td>270</td><td>Payroll</td></tr></tbody></table></div>"
      ]
     },
     "metadata": {
      "application/vnd.databricks.v1+output": {
       "addedWidgets": {},
       "aggData": [],
       "aggError": "",
       "aggOverflow": false,
       "aggSchema": [],
       "aggSeriesLimitReached": false,
       "aggType": "",
       "arguments": {},
       "columnCustomDisplayInfos": {},
       "data": [
        [
         10,
         "Administration"
        ],
        [
         20,
         "Marketing"
        ],
        [
         30,
         "Purchasing"
        ],
        [
         40,
         "Human Resources"
        ],
        [
         50,
         "Shipping"
        ],
        [
         60,
         "IT"
        ],
        [
         70,
         "Public Relations"
        ],
        [
         80,
         "Sales"
        ],
        [
         90,
         "Executive"
        ],
        [
         100,
         "Finance"
        ],
        [
         110,
         "Accounting"
        ],
        [
         120,
         "Treasury"
        ],
        [
         130,
         "Corporate Tax"
        ],
        [
         140,
         "Control And Credit"
        ],
        [
         150,
         "Shareholder Services"
        ],
        [
         160,
         "Benefits"
        ],
        [
         170,
         "Manufacturing"
        ],
        [
         180,
         "Construction"
        ],
        [
         190,
         "Contracting"
        ],
        [
         200,
         "Operations"
        ],
        [
         210,
         "IT Support"
        ],
        [
         220,
         "NOC"
        ],
        [
         230,
         "IT Helpdesk"
        ],
        [
         240,
         "Government Sales"
        ],
        [
         250,
         "Retail Sales"
        ],
        [
         260,
         "Recruiting"
        ],
        [
         270,
         "Payroll"
        ]
       ],
       "datasetInfos": [],
       "dbfsResultPath": null,
       "isJsonSchema": true,
       "metadata": {},
       "overflow": false,
       "plotOptions": {
        "customPlotOptions": {},
        "displayType": "table",
        "pivotAggregation": null,
        "pivotColumns": null,
        "xColumns": null,
        "yColumns": null
       },
       "removedWidgets": [],
       "schema": [
        {
         "metadata": "{}",
         "name": "DEPARTMENT_ID",
         "type": "\"integer\""
        },
        {
         "metadata": "{}",
         "name": "DEPARTMENT_NAME",
         "type": "\"string\""
        }
       ],
       "type": "table"
      }
     },
     "output_type": "display_data"
    }
   ],
   "source": [
    "display(dept)"
   ]
  },
  {
   "cell_type": "code",
   "execution_count": 0,
   "metadata": {
    "application/vnd.databricks.v1+cell": {
     "cellMetadata": {
      "byteLimit": 2048000,
      "rowLimit": 10000
     },
     "inputWidgets": {},
     "nuid": "e3fb5242-75a3-49e5-8e2e-d5dca06eba61",
     "showTitle": false,
     "title": ""
    }
   },
   "outputs": [],
   "source": [
    "# Joining the employees and departments silver tables to include the relevant fields such as department id, and drop columns that are not required\n",
    "employees = employees.join(dept, employees['department_id']==dept['department_id'], 'left').select(\"EMPLOYEE_ID\", \"FULL_NAME\",\"HIRE_DATE\", \"JOB_ID\", \"SALARY\", \"DEPARTMENT_NAME\")"
   ]
  },
  {
   "cell_type": "code",
   "execution_count": 0,
   "metadata": {
    "application/vnd.databricks.v1+cell": {
     "cellMetadata": {
      "byteLimit": 2048000,
      "rowLimit": 10000
     },
     "inputWidgets": {},
     "nuid": "6e043eb7-58ec-4e7e-84de-dabc8209f097",
     "showTitle": false,
     "title": ""
    }
   },
   "outputs": [
    {
     "output_type": "display_data",
     "data": {
      "text/html": [
       "<style scoped>\n",
       "  .table-result-container {\n",
       "    max-height: 300px;\n",
       "    overflow: auto;\n",
       "  }\n",
       "  table, th, td {\n",
       "    border: 1px solid black;\n",
       "    border-collapse: collapse;\n",
       "  }\n",
       "  th, td {\n",
       "    padding: 5px;\n",
       "  }\n",
       "  th {\n",
       "    text-align: left;\n",
       "  }\n",
       "</style><div class='table-result-container'><table class='table-result'><thead style='background-color: white'><tr><th>EMPLOYEE_ID</th><th>FULL_NAME</th><th>HIRE_DATE</th><th>JOB_ID</th><th>SALARY</th><th>DEPARTMENT_NAME</th></tr></thead><tbody><tr><td>100</td><td>Steven King</td><td>2009-09-01</td><td>AD_PRES</td><td>24000</td><td>Executive</td></tr><tr><td>101</td><td>Neena Kochhar</td><td>2011-12-07</td><td>AD_VP</td><td>17000</td><td>Executive</td></tr><tr><td>102</td><td>Lex De Haan</td><td>2015-03-31</td><td>AD_VP</td><td>17000</td><td>Executive</td></tr><tr><td>103</td><td>Alexander Hunold</td><td>2012-03-20</td><td>IT_PROG</td><td>9000</td><td>IT</td></tr><tr><td>104</td><td>Bruce Ernst</td><td>2013-08-05</td><td>IT_PROG</td><td>6000</td><td>IT</td></tr><tr><td>105</td><td>David Austin</td><td>2019-09-10</td><td>IT_PROG</td><td>4800</td><td>IT</td></tr><tr><td>106</td><td>Valli Pataballa</td><td>2020-04-22</td><td>IT_PROG</td><td>4800</td><td>IT</td></tr><tr><td>107</td><td>Diana Lorentz</td><td>2021-04-24</td><td>IT_PROG</td><td>4200</td><td>IT</td></tr><tr><td>108</td><td>Nancy Greenberg</td><td>2016-11-01</td><td>FI_MGR</td><td>12000</td><td>Finance</td></tr><tr><td>109</td><td>Daniel Faviet</td><td>2016-10-31</td><td>FI_ACCOUNT</td><td>9000</td><td>Finance</td></tr><tr><td>110</td><td>John Chen</td><td>2019-12-14</td><td>FI_ACCOUNT</td><td>8200</td><td>Finance</td></tr><tr><td>111</td><td>Ismael Sciarra</td><td>2019-12-16</td><td>FI_ACCOUNT</td><td>7700</td><td>Finance</td></tr><tr><td>112</td><td>Jose Manuel Urman</td><td>2020-05-22</td><td>FI_ACCOUNT</td><td>7800</td><td>Finance</td></tr><tr><td>113</td><td>Luis Popp</td><td>2022-02-21</td><td>FI_ACCOUNT</td><td>6900</td><td>Finance</td></tr><tr><td>114</td><td>Den Raphaely</td><td>2017-02-21</td><td>PU_MAN</td><td>11000</td><td>Purchasing</td></tr><tr><td>115</td><td>Alexander Khoo</td><td>2017-08-02</td><td>PU_CLERK</td><td>3100</td><td>Purchasing</td></tr><tr><td>116</td><td>Shelli Baida</td><td>2020-03-10</td><td>PU_CLERK</td><td>2900</td><td>Purchasing</td></tr><tr><td>117</td><td>Sigal Tobias</td><td>2019-10-09</td><td>PU_CLERK</td><td>2800</td><td>Purchasing</td></tr><tr><td>118</td><td>Guy Himuro</td><td>2021-01-30</td><td>PU_CLERK</td><td>2600</td><td>Purchasing</td></tr><tr><td>119</td><td>Karen Colmenares</td><td>2021-10-25</td><td>PU_CLERK</td><td>2500</td><td>Purchasing</td></tr><tr><td>120</td><td>Matthew Weiss</td><td>2018-10-03</td><td>ST_MAN</td><td>8000</td><td>Shipping</td></tr><tr><td>121</td><td>Adam Fripp</td><td>2019-06-26</td><td>ST_MAN</td><td>8200</td><td>Shipping</td></tr><tr><td>122</td><td>Payam Kaufling</td><td>2017-07-16</td><td>ST_MAN</td><td>7900</td><td>Shipping</td></tr><tr><td>123</td><td>Shanta Vollman</td><td>2019-12-26</td><td>ST_MAN</td><td>6500</td><td>Shipping</td></tr><tr><td>124</td><td>Kevin Mourgos</td><td>2022-01-31</td><td>ST_MAN</td><td>5800</td><td>Shipping</td></tr><tr><td>125</td><td>Julia Nayer</td><td>2019-10-01</td><td>ST_CLERK</td><td>3200</td><td>Shipping</td></tr><tr><td>126</td><td>Irene Mikkilineni</td><td>2020-12-13</td><td>ST_CLERK</td><td>2700</td><td>Shipping</td></tr><tr><td>127</td><td>James Landry</td><td>2021-03-31</td><td>ST_CLERK</td><td>2400</td><td>Shipping</td></tr><tr><td>128</td><td>Steven Markle</td><td>2022-05-24</td><td>ST_CLERK</td><td>2200</td><td>Shipping</td></tr><tr><td>129</td><td>Laura Bissot</td><td>2019-11-05</td><td>ST_CLERK</td><td>3300</td><td>Shipping</td></tr><tr><td>130</td><td>Mozhe Atkinson</td><td>2020-01-15</td><td>ST_CLERK</td><td>2800</td><td>Shipping</td></tr><tr><td>131</td><td>James Marlow</td><td>2019-05-04</td><td>ST_CLERK</td><td>2500</td><td>Shipping</td></tr><tr><td>132</td><td>TJ Olson</td><td>2021-06-25</td><td>ST_CLERK</td><td>2100</td><td>Shipping</td></tr><tr><td>133</td><td>Jason Mallin</td><td>2018-08-30</td><td>ST_CLERK</td><td>3300</td><td>Shipping</td></tr><tr><td>134</td><td>Michael Rogers</td><td>2020-11-10</td><td>ST_CLERK</td><td>2900</td><td>Shipping</td></tr><tr><td>135</td><td>Ki Gee</td><td>2022-02-26</td><td>ST_CLERK</td><td>2400</td><td>Shipping</td></tr><tr><td>136</td><td>Hazel Philtanker</td><td>2022-04-23</td><td>ST_CLERK</td><td>2200</td><td>Shipping</td></tr><tr><td>137</td><td>Renske Ladwig</td><td>2017-09-28</td><td>ST_CLERK</td><td>3600</td><td>Shipping</td></tr><tr><td>138</td><td>Stephen Stiles</td><td>2020-01-11</td><td>ST_CLERK</td><td>3200</td><td>Shipping</td></tr><tr><td>139</td><td>John Seo</td><td>2020-04-29</td><td>ST_CLERK</td><td>2700</td><td>Shipping</td></tr><tr><td>140</td><td>Joshua Patel</td><td>2020-06-21</td><td>ST_CLERK</td><td>2500</td><td>Shipping</td></tr><tr><td>141</td><td>Trenna Rajs</td><td>2018-01-01</td><td>ST_CLERK</td><td>3500</td><td>Shipping</td></tr><tr><td>142</td><td>Curtis Davies</td><td>2019-04-16</td><td>ST_CLERK</td><td>3100</td><td>Shipping</td></tr><tr><td>143</td><td>Randall Matos</td><td>2020-05-30</td><td>ST_CLERK</td><td>2600</td><td>Shipping</td></tr><tr><td>144</td><td>Peter Vargas</td><td>2020-09-23</td><td>ST_CLERK</td><td>2500</td><td>Shipping</td></tr><tr><td>145</td><td>John Russell</td><td>2018-12-17</td><td>SA_MAN</td><td>14000</td><td>Sales</td></tr><tr><td>146</td><td>Karen Partners</td><td>2019-03-23</td><td>SA_MAN</td><td>13500</td><td>Sales</td></tr><tr><td>147</td><td>Alberto Errazuriz</td><td>2019-05-26</td><td>SA_MAN</td><td>12000</td><td>Sales</td></tr><tr><td>148</td><td>Gerald Cambrault</td><td>2021-12-30</td><td>SA_MAN</td><td>11000</td><td>Sales</td></tr><tr><td>149</td><td>Eleni Zlotkey</td><td>2022-04-15</td><td>SA_MAN</td><td>10500</td><td>Sales</td></tr><tr><td>150</td><td>Peter Tucker</td><td>2019-04-17</td><td>SA_REP</td><td>10000</td><td>Sales</td></tr><tr><td>151</td><td>David Bernstein</td><td>2019-06-09</td><td>SA_REP</td><td>9500</td><td>Sales</td></tr><tr><td>152</td><td>Peter Hall</td><td>2019-11-05</td><td>SA_REP</td><td>9000</td><td>Sales</td></tr><tr><td>153</td><td>Christopher Olsen</td><td>2020-06-14</td><td>SA_REP</td><td>8000</td><td>Sales</td></tr><tr><td>154</td><td>Nanette Cambrault</td><td>2021-02-23</td><td>SA_REP</td><td>7500</td><td>Sales</td></tr><tr><td>155</td><td>Oliver Tuvault</td><td>2022-02-07</td><td>SA_REP</td><td>7000</td><td>Sales</td></tr><tr><td>156</td><td>Janette King</td><td>2018-04-16</td><td>SA_REP</td><td>10000</td><td>Sales</td></tr><tr><td>157</td><td>Patrick Sully</td><td>2018-05-20</td><td>SA_REP</td><td>9500</td><td>Sales</td></tr><tr><td>158</td><td>Allan McEwen</td><td>2018-10-17</td><td>SA_REP</td><td>9000</td><td>Sales</td></tr><tr><td>159</td><td>Lindsey Smith</td><td>2019-05-26</td><td>SA_REP</td><td>8000</td><td>Sales</td></tr><tr><td>160</td><td>Louise Doran</td><td>2020-03-01</td><td>SA_REP</td><td>7500</td><td>Sales</td></tr><tr><td>161</td><td>Sarath Sewall</td><td>2021-01-18</td><td>SA_REP</td><td>7000</td><td>Sales</td></tr><tr><td>162</td><td>Clara Vishney</td><td>2020-01-27</td><td>SA_REP</td><td>10500</td><td>Sales</td></tr><tr><td>163</td><td>Danielle Greene</td><td>2021-06-03</td><td>SA_REP</td><td>9500</td><td>Sales</td></tr><tr><td>164</td><td>Mattea Marvins</td><td>2022-04-10</td><td>SA_REP</td><td>7200</td><td>Sales</td></tr><tr><td>165</td><td>David Lee</td><td>2022-05-10</td><td>SA_REP</td><td>6800</td><td>Sales</td></tr><tr><td>166</td><td>Sundar Ande</td><td>2022-06-09</td><td>SA_REP</td><td>6400</td><td>Sales</td></tr><tr><td>167</td><td>Amit Banda</td><td>2022-07-07</td><td>SA_REP</td><td>6200</td><td>Sales</td></tr><tr><td>168</td><td>Lisa Ozer</td><td>2019-05-27</td><td>SA_REP</td><td>11500</td><td>Sales</td></tr><tr><td>169</td><td>Harrison Bloom</td><td>2020-06-07</td><td>SA_REP</td><td>10000</td><td>Sales</td></tr><tr><td>170</td><td>Tayler Fox</td><td>2020-04-10</td><td>SA_REP</td><td>9600</td><td>Sales</td></tr><tr><td>171</td><td>William Smith</td><td>2021-05-10</td><td>SA_REP</td><td>7400</td><td>Sales</td></tr><tr><td>172</td><td>Elizabeth Bates</td><td>2021-06-08</td><td>SA_REP</td><td>7300</td><td>Sales</td></tr><tr><td>173</td><td>Sundita Kumar</td><td>2022-07-07</td><td>SA_REP</td><td>6100</td><td>Sales</td></tr><tr><td>174</td><td>Ellen Abel</td><td>2018-07-27</td><td>SA_REP</td><td>11000</td><td>Sales</td></tr><tr><td>175</td><td>Alyssa Hutton</td><td>2019-06-04</td><td>SA_REP</td><td>8800</td><td>Sales</td></tr><tr><td>176</td><td>Jonathon Taylor</td><td>2020-06-08</td><td>SA_REP</td><td>8600</td><td>Sales</td></tr><tr><td>177</td><td>Jack Livingston</td><td>2020-07-08</td><td>SA_REP</td><td>8400</td><td>Sales</td></tr><tr><td>178</td><td>Kimberely Grant</td><td>2021-08-08</td><td>SA_REP</td><td>7000</td><td>null</td></tr><tr><td>179</td><td>Charles Johnson</td><td>2022-03-21</td><td>SA_REP</td><td>6200</td><td>Sales</td></tr><tr><td>180</td><td>Winston Taylor</td><td>2020-04-10</td><td>SH_CLERK</td><td>3200</td><td>Shipping</td></tr><tr><td>181</td><td>Jean Fleaur</td><td>2020-05-10</td><td>SH_CLERK</td><td>3100</td><td>Shipping</td></tr><tr><td>182</td><td>Martha Sullivan</td><td>2021-09-05</td><td>SH_CLERK</td><td>2500</td><td>Shipping</td></tr><tr><td>183</td><td>Girard Geoni</td><td>2022-04-20</td><td>SH_CLERK</td><td>2800</td><td>Shipping</td></tr><tr><td>184</td><td>Nandita Sarchand</td><td>2018-04-13</td><td>SH_CLERK</td><td>4200</td><td>Shipping</td></tr><tr><td>185</td><td>Alexis Bull</td><td>2019-05-08</td><td>SH_CLERK</td><td>4100</td><td>Shipping</td></tr><tr><td>186</td><td>Julia Dellinger</td><td>2020-09-08</td><td>SH_CLERK</td><td>3400</td><td>Shipping</td></tr><tr><td>187</td><td>Anthony Cabrio</td><td>2021-04-24</td><td>SH_CLERK</td><td>3000</td><td>Shipping</td></tr><tr><td>188</td><td>Kelly Chung</td><td>2019-08-30</td><td>SH_CLERK</td><td>3800</td><td>Shipping</td></tr><tr><td>189</td><td>Jennifer Dilly</td><td>2019-10-29</td><td>SH_CLERK</td><td>3600</td><td>Shipping</td></tr><tr><td>190</td><td>Timothy Gates</td><td>2020-09-25</td><td>SH_CLERK</td><td>2900</td><td>Shipping</td></tr><tr><td>191</td><td>Randall Perkins</td><td>2022-03-05</td><td>SH_CLERK</td><td>2500</td><td>Shipping</td></tr><tr><td>192</td><td>Sarah Bell</td><td>2018-04-21</td><td>SH_CLERK</td><td>4000</td><td>Shipping</td></tr><tr><td>193</td><td>Britney Everett</td><td>2019-05-19</td><td>SH_CLERK</td><td>3900</td><td>Shipping</td></tr><tr><td>194</td><td>Samuel McCain</td><td>2020-09-15</td><td>SH_CLERK</td><td>3200</td><td>Shipping</td></tr><tr><td>195</td><td>Vance Jones</td><td>2021-06-01</td><td>SH_CLERK</td><td>2800</td><td>Shipping</td></tr><tr><td>196</td><td>Alana Walsh</td><td>2020-07-09</td><td>SH_CLERK</td><td>3100</td><td>Shipping</td></tr><tr><td>197</td><td>Kevin Feeney</td><td>2020-08-07</td><td>SH_CLERK</td><td>3000</td><td>Shipping</td></tr><tr><td>198</td><td>Donald OConnell</td><td>2021-09-05</td><td>SH_CLERK</td><td>2600</td><td>Shipping</td></tr><tr><td>199</td><td>Douglas Grant</td><td>2022-03-30</td><td>SH_CLERK</td><td>2600</td><td>Shipping</td></tr><tr><td>200</td><td>Jennifer Whalen</td><td>2009-12-02</td><td>AD_ASST</td><td>4400</td><td>Administration</td></tr><tr><td>201</td><td>Michael Hartstein</td><td>2018-05-04</td><td>MK_MAN</td><td>13000</td><td>Marketing</td></tr><tr><td>202</td><td>Pat Fay</td><td>2019-11-02</td><td>MK_REP</td><td>6000</td><td>Marketing</td></tr><tr><td>203</td><td>Susan Mavris</td><td>2016-08-22</td><td>HR_REP</td><td>6500</td><td>Human Resources</td></tr><tr><td>204</td><td>Hermann Baer</td><td>2016-08-22</td><td>PR_REP</td><td>10000</td><td>Public Relations</td></tr><tr><td>205</td><td>Shelley Higgins</td><td>2016-08-22</td><td>AC_MGR</td><td>12000</td><td>Accounting</td></tr><tr><td>206</td><td>William Gietz</td><td>2016-08-22</td><td>AC_ACCOUNT</td><td>8300</td><td>Accounting</td></tr></tbody></table></div>"
      ]
     },
     "metadata": {
      "application/vnd.databricks.v1+output": {
       "addedWidgets": {},
       "aggData": [],
       "aggError": "",
       "aggOverflow": false,
       "aggSchema": [],
       "aggSeriesLimitReached": false,
       "aggType": "",
       "arguments": {},
       "columnCustomDisplayInfos": {},
       "data": [
        [
         100,
         "Steven King",
         "2009-09-01",
         "AD_PRES",
         24000,
         "Executive"
        ],
        [
         101,
         "Neena Kochhar",
         "2011-12-07",
         "AD_VP",
         17000,
         "Executive"
        ],
        [
         102,
         "Lex De Haan",
         "2015-03-31",
         "AD_VP",
         17000,
         "Executive"
        ],
        [
         103,
         "Alexander Hunold",
         "2012-03-20",
         "IT_PROG",
         9000,
         "IT"
        ],
        [
         104,
         "Bruce Ernst",
         "2013-08-05",
         "IT_PROG",
         6000,
         "IT"
        ],
        [
         105,
         "David Austin",
         "2019-09-10",
         "IT_PROG",
         4800,
         "IT"
        ],
        [
         106,
         "Valli Pataballa",
         "2020-04-22",
         "IT_PROG",
         4800,
         "IT"
        ],
        [
         107,
         "Diana Lorentz",
         "2021-04-24",
         "IT_PROG",
         4200,
         "IT"
        ],
        [
         108,
         "Nancy Greenberg",
         "2016-11-01",
         "FI_MGR",
         12000,
         "Finance"
        ],
        [
         109,
         "Daniel Faviet",
         "2016-10-31",
         "FI_ACCOUNT",
         9000,
         "Finance"
        ],
        [
         110,
         "John Chen",
         "2019-12-14",
         "FI_ACCOUNT",
         8200,
         "Finance"
        ],
        [
         111,
         "Ismael Sciarra",
         "2019-12-16",
         "FI_ACCOUNT",
         7700,
         "Finance"
        ],
        [
         112,
         "Jose Manuel Urman",
         "2020-05-22",
         "FI_ACCOUNT",
         7800,
         "Finance"
        ],
        [
         113,
         "Luis Popp",
         "2022-02-21",
         "FI_ACCOUNT",
         6900,
         "Finance"
        ],
        [
         114,
         "Den Raphaely",
         "2017-02-21",
         "PU_MAN",
         11000,
         "Purchasing"
        ],
        [
         115,
         "Alexander Khoo",
         "2017-08-02",
         "PU_CLERK",
         3100,
         "Purchasing"
        ],
        [
         116,
         "Shelli Baida",
         "2020-03-10",
         "PU_CLERK",
         2900,
         "Purchasing"
        ],
        [
         117,
         "Sigal Tobias",
         "2019-10-09",
         "PU_CLERK",
         2800,
         "Purchasing"
        ],
        [
         118,
         "Guy Himuro",
         "2021-01-30",
         "PU_CLERK",
         2600,
         "Purchasing"
        ],
        [
         119,
         "Karen Colmenares",
         "2021-10-25",
         "PU_CLERK",
         2500,
         "Purchasing"
        ],
        [
         120,
         "Matthew Weiss",
         "2018-10-03",
         "ST_MAN",
         8000,
         "Shipping"
        ],
        [
         121,
         "Adam Fripp",
         "2019-06-26",
         "ST_MAN",
         8200,
         "Shipping"
        ],
        [
         122,
         "Payam Kaufling",
         "2017-07-16",
         "ST_MAN",
         7900,
         "Shipping"
        ],
        [
         123,
         "Shanta Vollman",
         "2019-12-26",
         "ST_MAN",
         6500,
         "Shipping"
        ],
        [
         124,
         "Kevin Mourgos",
         "2022-01-31",
         "ST_MAN",
         5800,
         "Shipping"
        ],
        [
         125,
         "Julia Nayer",
         "2019-10-01",
         "ST_CLERK",
         3200,
         "Shipping"
        ],
        [
         126,
         "Irene Mikkilineni",
         "2020-12-13",
         "ST_CLERK",
         2700,
         "Shipping"
        ],
        [
         127,
         "James Landry",
         "2021-03-31",
         "ST_CLERK",
         2400,
         "Shipping"
        ],
        [
         128,
         "Steven Markle",
         "2022-05-24",
         "ST_CLERK",
         2200,
         "Shipping"
        ],
        [
         129,
         "Laura Bissot",
         "2019-11-05",
         "ST_CLERK",
         3300,
         "Shipping"
        ],
        [
         130,
         "Mozhe Atkinson",
         "2020-01-15",
         "ST_CLERK",
         2800,
         "Shipping"
        ],
        [
         131,
         "James Marlow",
         "2019-05-04",
         "ST_CLERK",
         2500,
         "Shipping"
        ],
        [
         132,
         "TJ Olson",
         "2021-06-25",
         "ST_CLERK",
         2100,
         "Shipping"
        ],
        [
         133,
         "Jason Mallin",
         "2018-08-30",
         "ST_CLERK",
         3300,
         "Shipping"
        ],
        [
         134,
         "Michael Rogers",
         "2020-11-10",
         "ST_CLERK",
         2900,
         "Shipping"
        ],
        [
         135,
         "Ki Gee",
         "2022-02-26",
         "ST_CLERK",
         2400,
         "Shipping"
        ],
        [
         136,
         "Hazel Philtanker",
         "2022-04-23",
         "ST_CLERK",
         2200,
         "Shipping"
        ],
        [
         137,
         "Renske Ladwig",
         "2017-09-28",
         "ST_CLERK",
         3600,
         "Shipping"
        ],
        [
         138,
         "Stephen Stiles",
         "2020-01-11",
         "ST_CLERK",
         3200,
         "Shipping"
        ],
        [
         139,
         "John Seo",
         "2020-04-29",
         "ST_CLERK",
         2700,
         "Shipping"
        ],
        [
         140,
         "Joshua Patel",
         "2020-06-21",
         "ST_CLERK",
         2500,
         "Shipping"
        ],
        [
         141,
         "Trenna Rajs",
         "2018-01-01",
         "ST_CLERK",
         3500,
         "Shipping"
        ],
        [
         142,
         "Curtis Davies",
         "2019-04-16",
         "ST_CLERK",
         3100,
         "Shipping"
        ],
        [
         143,
         "Randall Matos",
         "2020-05-30",
         "ST_CLERK",
         2600,
         "Shipping"
        ],
        [
         144,
         "Peter Vargas",
         "2020-09-23",
         "ST_CLERK",
         2500,
         "Shipping"
        ],
        [
         145,
         "John Russell",
         "2018-12-17",
         "SA_MAN",
         14000,
         "Sales"
        ],
        [
         146,
         "Karen Partners",
         "2019-03-23",
         "SA_MAN",
         13500,
         "Sales"
        ],
        [
         147,
         "Alberto Errazuriz",
         "2019-05-26",
         "SA_MAN",
         12000,
         "Sales"
        ],
        [
         148,
         "Gerald Cambrault",
         "2021-12-30",
         "SA_MAN",
         11000,
         "Sales"
        ],
        [
         149,
         "Eleni Zlotkey",
         "2022-04-15",
         "SA_MAN",
         10500,
         "Sales"
        ],
        [
         150,
         "Peter Tucker",
         "2019-04-17",
         "SA_REP",
         10000,
         "Sales"
        ],
        [
         151,
         "David Bernstein",
         "2019-06-09",
         "SA_REP",
         9500,
         "Sales"
        ],
        [
         152,
         "Peter Hall",
         "2019-11-05",
         "SA_REP",
         9000,
         "Sales"
        ],
        [
         153,
         "Christopher Olsen",
         "2020-06-14",
         "SA_REP",
         8000,
         "Sales"
        ],
        [
         154,
         "Nanette Cambrault",
         "2021-02-23",
         "SA_REP",
         7500,
         "Sales"
        ],
        [
         155,
         "Oliver Tuvault",
         "2022-02-07",
         "SA_REP",
         7000,
         "Sales"
        ],
        [
         156,
         "Janette King",
         "2018-04-16",
         "SA_REP",
         10000,
         "Sales"
        ],
        [
         157,
         "Patrick Sully",
         "2018-05-20",
         "SA_REP",
         9500,
         "Sales"
        ],
        [
         158,
         "Allan McEwen",
         "2018-10-17",
         "SA_REP",
         9000,
         "Sales"
        ],
        [
         159,
         "Lindsey Smith",
         "2019-05-26",
         "SA_REP",
         8000,
         "Sales"
        ],
        [
         160,
         "Louise Doran",
         "2020-03-01",
         "SA_REP",
         7500,
         "Sales"
        ],
        [
         161,
         "Sarath Sewall",
         "2021-01-18",
         "SA_REP",
         7000,
         "Sales"
        ],
        [
         162,
         "Clara Vishney",
         "2020-01-27",
         "SA_REP",
         10500,
         "Sales"
        ],
        [
         163,
         "Danielle Greene",
         "2021-06-03",
         "SA_REP",
         9500,
         "Sales"
        ],
        [
         164,
         "Mattea Marvins",
         "2022-04-10",
         "SA_REP",
         7200,
         "Sales"
        ],
        [
         165,
         "David Lee",
         "2022-05-10",
         "SA_REP",
         6800,
         "Sales"
        ],
        [
         166,
         "Sundar Ande",
         "2022-06-09",
         "SA_REP",
         6400,
         "Sales"
        ],
        [
         167,
         "Amit Banda",
         "2022-07-07",
         "SA_REP",
         6200,
         "Sales"
        ],
        [
         168,
         "Lisa Ozer",
         "2019-05-27",
         "SA_REP",
         11500,
         "Sales"
        ],
        [
         169,
         "Harrison Bloom",
         "2020-06-07",
         "SA_REP",
         10000,
         "Sales"
        ],
        [
         170,
         "Tayler Fox",
         "2020-04-10",
         "SA_REP",
         9600,
         "Sales"
        ],
        [
         171,
         "William Smith",
         "2021-05-10",
         "SA_REP",
         7400,
         "Sales"
        ],
        [
         172,
         "Elizabeth Bates",
         "2021-06-08",
         "SA_REP",
         7300,
         "Sales"
        ],
        [
         173,
         "Sundita Kumar",
         "2022-07-07",
         "SA_REP",
         6100,
         "Sales"
        ],
        [
         174,
         "Ellen Abel",
         "2018-07-27",
         "SA_REP",
         11000,
         "Sales"
        ],
        [
         175,
         "Alyssa Hutton",
         "2019-06-04",
         "SA_REP",
         8800,
         "Sales"
        ],
        [
         176,
         "Jonathon Taylor",
         "2020-06-08",
         "SA_REP",
         8600,
         "Sales"
        ],
        [
         177,
         "Jack Livingston",
         "2020-07-08",
         "SA_REP",
         8400,
         "Sales"
        ],
        [
         178,
         "Kimberely Grant",
         "2021-08-08",
         "SA_REP",
         7000,
         null
        ],
        [
         179,
         "Charles Johnson",
         "2022-03-21",
         "SA_REP",
         6200,
         "Sales"
        ],
        [
         180,
         "Winston Taylor",
         "2020-04-10",
         "SH_CLERK",
         3200,
         "Shipping"
        ],
        [
         181,
         "Jean Fleaur",
         "2020-05-10",
         "SH_CLERK",
         3100,
         "Shipping"
        ],
        [
         182,
         "Martha Sullivan",
         "2021-09-05",
         "SH_CLERK",
         2500,
         "Shipping"
        ],
        [
         183,
         "Girard Geoni",
         "2022-04-20",
         "SH_CLERK",
         2800,
         "Shipping"
        ],
        [
         184,
         "Nandita Sarchand",
         "2018-04-13",
         "SH_CLERK",
         4200,
         "Shipping"
        ],
        [
         185,
         "Alexis Bull",
         "2019-05-08",
         "SH_CLERK",
         4100,
         "Shipping"
        ],
        [
         186,
         "Julia Dellinger",
         "2020-09-08",
         "SH_CLERK",
         3400,
         "Shipping"
        ],
        [
         187,
         "Anthony Cabrio",
         "2021-04-24",
         "SH_CLERK",
         3000,
         "Shipping"
        ],
        [
         188,
         "Kelly Chung",
         "2019-08-30",
         "SH_CLERK",
         3800,
         "Shipping"
        ],
        [
         189,
         "Jennifer Dilly",
         "2019-10-29",
         "SH_CLERK",
         3600,
         "Shipping"
        ],
        [
         190,
         "Timothy Gates",
         "2020-09-25",
         "SH_CLERK",
         2900,
         "Shipping"
        ],
        [
         191,
         "Randall Perkins",
         "2022-03-05",
         "SH_CLERK",
         2500,
         "Shipping"
        ],
        [
         192,
         "Sarah Bell",
         "2018-04-21",
         "SH_CLERK",
         4000,
         "Shipping"
        ],
        [
         193,
         "Britney Everett",
         "2019-05-19",
         "SH_CLERK",
         3900,
         "Shipping"
        ],
        [
         194,
         "Samuel McCain",
         "2020-09-15",
         "SH_CLERK",
         3200,
         "Shipping"
        ],
        [
         195,
         "Vance Jones",
         "2021-06-01",
         "SH_CLERK",
         2800,
         "Shipping"
        ],
        [
         196,
         "Alana Walsh",
         "2020-07-09",
         "SH_CLERK",
         3100,
         "Shipping"
        ],
        [
         197,
         "Kevin Feeney",
         "2020-08-07",
         "SH_CLERK",
         3000,
         "Shipping"
        ],
        [
         198,
         "Donald OConnell",
         "2021-09-05",
         "SH_CLERK",
         2600,
         "Shipping"
        ],
        [
         199,
         "Douglas Grant",
         "2022-03-30",
         "SH_CLERK",
         2600,
         "Shipping"
        ],
        [
         200,
         "Jennifer Whalen",
         "2009-12-02",
         "AD_ASST",
         4400,
         "Administration"
        ],
        [
         201,
         "Michael Hartstein",
         "2018-05-04",
         "MK_MAN",
         13000,
         "Marketing"
        ],
        [
         202,
         "Pat Fay",
         "2019-11-02",
         "MK_REP",
         6000,
         "Marketing"
        ],
        [
         203,
         "Susan Mavris",
         "2016-08-22",
         "HR_REP",
         6500,
         "Human Resources"
        ],
        [
         204,
         "Hermann Baer",
         "2016-08-22",
         "PR_REP",
         10000,
         "Public Relations"
        ],
        [
         205,
         "Shelley Higgins",
         "2016-08-22",
         "AC_MGR",
         12000,
         "Accounting"
        ],
        [
         206,
         "William Gietz",
         "2016-08-22",
         "AC_ACCOUNT",
         8300,
         "Accounting"
        ]
       ],
       "datasetInfos": [],
       "dbfsResultPath": null,
       "isJsonSchema": true,
       "metadata": {},
       "overflow": false,
       "plotOptions": {
        "customPlotOptions": {},
        "displayType": "table",
        "pivotAggregation": null,
        "pivotColumns": null,
        "xColumns": null,
        "yColumns": null
       },
       "removedWidgets": [],
       "schema": [
        {
         "metadata": "{}",
         "name": "EMPLOYEE_ID",
         "type": "\"integer\""
        },
        {
         "metadata": "{}",
         "name": "FULL_NAME",
         "type": "\"string\""
        },
        {
         "metadata": "{}",
         "name": "HIRE_DATE",
         "type": "\"date\""
        },
        {
         "metadata": "{}",
         "name": "JOB_ID",
         "type": "\"string\""
        },
        {
         "metadata": "{}",
         "name": "SALARY",
         "type": "\"integer\""
        },
        {
         "metadata": "{}",
         "name": "DEPARTMENT_NAME",
         "type": "\"string\""
        }
       ],
       "type": "table"
      }
     },
     "output_type": "display_data"
    }
   ],
   "source": [
    "employees.display()"
   ]
  },
  {
   "cell_type": "code",
   "execution_count": 0,
   "metadata": {
    "application/vnd.databricks.v1+cell": {
     "cellMetadata": {
      "byteLimit": 2048000,
      "rowLimit": 10000
     },
     "inputWidgets": {},
     "nuid": "31632cdd-a8d9-4e7c-9bf9-3d00257ace3b",
     "showTitle": false,
     "title": ""
    }
   },
   "outputs": [],
   "source": [
    "# Writing the employees dataframe to the gold layer\n",
    "employees.write.parquet(\"dbfs:/FileStore/tables/employees_medallion/gold/employees\", mode='overwrite')"
   ]
  },
  {
   "cell_type": "code",
   "execution_count": 0,
   "metadata": {
    "application/vnd.databricks.v1+cell": {
     "cellMetadata": {
      "byteLimit": 2048000,
      "rowLimit": 10000
     },
     "inputWidgets": {},
     "nuid": "866d3a71-2ddf-4e10-b4f3-2c6070b0aadc",
     "showTitle": false,
     "title": ""
    }
   },
   "outputs": [
    {
     "output_type": "display_data",
     "data": {
      "text/html": [
       "<style scoped>\n",
       "  .table-result-container {\n",
       "    max-height: 300px;\n",
       "    overflow: auto;\n",
       "  }\n",
       "  table, th, td {\n",
       "    border: 1px solid black;\n",
       "    border-collapse: collapse;\n",
       "  }\n",
       "  th, td {\n",
       "    padding: 5px;\n",
       "  }\n",
       "  th {\n",
       "    text-align: left;\n",
       "  }\n",
       "</style><div class='table-result-container'><table class='table-result'><thead style='background-color: white'><tr><th>EMPLOYEE_ID</th><th>FULL_NAME</th><th>HIRE_DATE</th><th>JOB_ID</th><th>SALARY</th><th>DEPARTMENT_NAME</th></tr></thead><tbody><tr><td>100</td><td>Steven King</td><td>2009-09-01</td><td>AD_PRES</td><td>24000</td><td>Executive</td></tr><tr><td>101</td><td>Neena Kochhar</td><td>2011-12-07</td><td>AD_VP</td><td>17000</td><td>Executive</td></tr><tr><td>102</td><td>Lex De Haan</td><td>2015-03-31</td><td>AD_VP</td><td>17000</td><td>Executive</td></tr><tr><td>103</td><td>Alexander Hunold</td><td>2012-03-20</td><td>IT_PROG</td><td>9000</td><td>IT</td></tr><tr><td>104</td><td>Bruce Ernst</td><td>2013-08-05</td><td>IT_PROG</td><td>6000</td><td>IT</td></tr><tr><td>105</td><td>David Austin</td><td>2019-09-10</td><td>IT_PROG</td><td>4800</td><td>IT</td></tr><tr><td>106</td><td>Valli Pataballa</td><td>2020-04-22</td><td>IT_PROG</td><td>4800</td><td>IT</td></tr><tr><td>107</td><td>Diana Lorentz</td><td>2021-04-24</td><td>IT_PROG</td><td>4200</td><td>IT</td></tr><tr><td>108</td><td>Nancy Greenberg</td><td>2016-11-01</td><td>FI_MGR</td><td>12000</td><td>Finance</td></tr><tr><td>109</td><td>Daniel Faviet</td><td>2016-10-31</td><td>FI_ACCOUNT</td><td>9000</td><td>Finance</td></tr><tr><td>110</td><td>John Chen</td><td>2019-12-14</td><td>FI_ACCOUNT</td><td>8200</td><td>Finance</td></tr><tr><td>111</td><td>Ismael Sciarra</td><td>2019-12-16</td><td>FI_ACCOUNT</td><td>7700</td><td>Finance</td></tr><tr><td>112</td><td>Jose Manuel Urman</td><td>2020-05-22</td><td>FI_ACCOUNT</td><td>7800</td><td>Finance</td></tr><tr><td>113</td><td>Luis Popp</td><td>2022-02-21</td><td>FI_ACCOUNT</td><td>6900</td><td>Finance</td></tr><tr><td>114</td><td>Den Raphaely</td><td>2017-02-21</td><td>PU_MAN</td><td>11000</td><td>Purchasing</td></tr><tr><td>115</td><td>Alexander Khoo</td><td>2017-08-02</td><td>PU_CLERK</td><td>3100</td><td>Purchasing</td></tr><tr><td>116</td><td>Shelli Baida</td><td>2020-03-10</td><td>PU_CLERK</td><td>2900</td><td>Purchasing</td></tr><tr><td>117</td><td>Sigal Tobias</td><td>2019-10-09</td><td>PU_CLERK</td><td>2800</td><td>Purchasing</td></tr><tr><td>118</td><td>Guy Himuro</td><td>2021-01-30</td><td>PU_CLERK</td><td>2600</td><td>Purchasing</td></tr><tr><td>119</td><td>Karen Colmenares</td><td>2021-10-25</td><td>PU_CLERK</td><td>2500</td><td>Purchasing</td></tr><tr><td>120</td><td>Matthew Weiss</td><td>2018-10-03</td><td>ST_MAN</td><td>8000</td><td>Shipping</td></tr><tr><td>121</td><td>Adam Fripp</td><td>2019-06-26</td><td>ST_MAN</td><td>8200</td><td>Shipping</td></tr><tr><td>122</td><td>Payam Kaufling</td><td>2017-07-16</td><td>ST_MAN</td><td>7900</td><td>Shipping</td></tr><tr><td>123</td><td>Shanta Vollman</td><td>2019-12-26</td><td>ST_MAN</td><td>6500</td><td>Shipping</td></tr><tr><td>124</td><td>Kevin Mourgos</td><td>2022-01-31</td><td>ST_MAN</td><td>5800</td><td>Shipping</td></tr><tr><td>125</td><td>Julia Nayer</td><td>2019-10-01</td><td>ST_CLERK</td><td>3200</td><td>Shipping</td></tr><tr><td>126</td><td>Irene Mikkilineni</td><td>2020-12-13</td><td>ST_CLERK</td><td>2700</td><td>Shipping</td></tr><tr><td>127</td><td>James Landry</td><td>2021-03-31</td><td>ST_CLERK</td><td>2400</td><td>Shipping</td></tr><tr><td>128</td><td>Steven Markle</td><td>2022-05-24</td><td>ST_CLERK</td><td>2200</td><td>Shipping</td></tr><tr><td>129</td><td>Laura Bissot</td><td>2019-11-05</td><td>ST_CLERK</td><td>3300</td><td>Shipping</td></tr><tr><td>130</td><td>Mozhe Atkinson</td><td>2020-01-15</td><td>ST_CLERK</td><td>2800</td><td>Shipping</td></tr><tr><td>131</td><td>James Marlow</td><td>2019-05-04</td><td>ST_CLERK</td><td>2500</td><td>Shipping</td></tr><tr><td>132</td><td>TJ Olson</td><td>2021-06-25</td><td>ST_CLERK</td><td>2100</td><td>Shipping</td></tr><tr><td>133</td><td>Jason Mallin</td><td>2018-08-30</td><td>ST_CLERK</td><td>3300</td><td>Shipping</td></tr><tr><td>134</td><td>Michael Rogers</td><td>2020-11-10</td><td>ST_CLERK</td><td>2900</td><td>Shipping</td></tr><tr><td>135</td><td>Ki Gee</td><td>2022-02-26</td><td>ST_CLERK</td><td>2400</td><td>Shipping</td></tr><tr><td>136</td><td>Hazel Philtanker</td><td>2022-04-23</td><td>ST_CLERK</td><td>2200</td><td>Shipping</td></tr><tr><td>137</td><td>Renske Ladwig</td><td>2017-09-28</td><td>ST_CLERK</td><td>3600</td><td>Shipping</td></tr><tr><td>138</td><td>Stephen Stiles</td><td>2020-01-11</td><td>ST_CLERK</td><td>3200</td><td>Shipping</td></tr><tr><td>139</td><td>John Seo</td><td>2020-04-29</td><td>ST_CLERK</td><td>2700</td><td>Shipping</td></tr><tr><td>140</td><td>Joshua Patel</td><td>2020-06-21</td><td>ST_CLERK</td><td>2500</td><td>Shipping</td></tr><tr><td>141</td><td>Trenna Rajs</td><td>2018-01-01</td><td>ST_CLERK</td><td>3500</td><td>Shipping</td></tr><tr><td>142</td><td>Curtis Davies</td><td>2019-04-16</td><td>ST_CLERK</td><td>3100</td><td>Shipping</td></tr><tr><td>143</td><td>Randall Matos</td><td>2020-05-30</td><td>ST_CLERK</td><td>2600</td><td>Shipping</td></tr><tr><td>144</td><td>Peter Vargas</td><td>2020-09-23</td><td>ST_CLERK</td><td>2500</td><td>Shipping</td></tr><tr><td>145</td><td>John Russell</td><td>2018-12-17</td><td>SA_MAN</td><td>14000</td><td>Sales</td></tr><tr><td>146</td><td>Karen Partners</td><td>2019-03-23</td><td>SA_MAN</td><td>13500</td><td>Sales</td></tr><tr><td>147</td><td>Alberto Errazuriz</td><td>2019-05-26</td><td>SA_MAN</td><td>12000</td><td>Sales</td></tr><tr><td>148</td><td>Gerald Cambrault</td><td>2021-12-30</td><td>SA_MAN</td><td>11000</td><td>Sales</td></tr><tr><td>149</td><td>Eleni Zlotkey</td><td>2022-04-15</td><td>SA_MAN</td><td>10500</td><td>Sales</td></tr><tr><td>150</td><td>Peter Tucker</td><td>2019-04-17</td><td>SA_REP</td><td>10000</td><td>Sales</td></tr><tr><td>151</td><td>David Bernstein</td><td>2019-06-09</td><td>SA_REP</td><td>9500</td><td>Sales</td></tr><tr><td>152</td><td>Peter Hall</td><td>2019-11-05</td><td>SA_REP</td><td>9000</td><td>Sales</td></tr><tr><td>153</td><td>Christopher Olsen</td><td>2020-06-14</td><td>SA_REP</td><td>8000</td><td>Sales</td></tr><tr><td>154</td><td>Nanette Cambrault</td><td>2021-02-23</td><td>SA_REP</td><td>7500</td><td>Sales</td></tr><tr><td>155</td><td>Oliver Tuvault</td><td>2022-02-07</td><td>SA_REP</td><td>7000</td><td>Sales</td></tr><tr><td>156</td><td>Janette King</td><td>2018-04-16</td><td>SA_REP</td><td>10000</td><td>Sales</td></tr><tr><td>157</td><td>Patrick Sully</td><td>2018-05-20</td><td>SA_REP</td><td>9500</td><td>Sales</td></tr><tr><td>158</td><td>Allan McEwen</td><td>2018-10-17</td><td>SA_REP</td><td>9000</td><td>Sales</td></tr><tr><td>159</td><td>Lindsey Smith</td><td>2019-05-26</td><td>SA_REP</td><td>8000</td><td>Sales</td></tr><tr><td>160</td><td>Louise Doran</td><td>2020-03-01</td><td>SA_REP</td><td>7500</td><td>Sales</td></tr><tr><td>161</td><td>Sarath Sewall</td><td>2021-01-18</td><td>SA_REP</td><td>7000</td><td>Sales</td></tr><tr><td>162</td><td>Clara Vishney</td><td>2020-01-27</td><td>SA_REP</td><td>10500</td><td>Sales</td></tr><tr><td>163</td><td>Danielle Greene</td><td>2021-06-03</td><td>SA_REP</td><td>9500</td><td>Sales</td></tr><tr><td>164</td><td>Mattea Marvins</td><td>2022-04-10</td><td>SA_REP</td><td>7200</td><td>Sales</td></tr><tr><td>165</td><td>David Lee</td><td>2022-05-10</td><td>SA_REP</td><td>6800</td><td>Sales</td></tr><tr><td>166</td><td>Sundar Ande</td><td>2022-06-09</td><td>SA_REP</td><td>6400</td><td>Sales</td></tr><tr><td>167</td><td>Amit Banda</td><td>2022-07-07</td><td>SA_REP</td><td>6200</td><td>Sales</td></tr><tr><td>168</td><td>Lisa Ozer</td><td>2019-05-27</td><td>SA_REP</td><td>11500</td><td>Sales</td></tr><tr><td>169</td><td>Harrison Bloom</td><td>2020-06-07</td><td>SA_REP</td><td>10000</td><td>Sales</td></tr><tr><td>170</td><td>Tayler Fox</td><td>2020-04-10</td><td>SA_REP</td><td>9600</td><td>Sales</td></tr><tr><td>171</td><td>William Smith</td><td>2021-05-10</td><td>SA_REP</td><td>7400</td><td>Sales</td></tr><tr><td>172</td><td>Elizabeth Bates</td><td>2021-06-08</td><td>SA_REP</td><td>7300</td><td>Sales</td></tr><tr><td>173</td><td>Sundita Kumar</td><td>2022-07-07</td><td>SA_REP</td><td>6100</td><td>Sales</td></tr><tr><td>174</td><td>Ellen Abel</td><td>2018-07-27</td><td>SA_REP</td><td>11000</td><td>Sales</td></tr><tr><td>175</td><td>Alyssa Hutton</td><td>2019-06-04</td><td>SA_REP</td><td>8800</td><td>Sales</td></tr><tr><td>176</td><td>Jonathon Taylor</td><td>2020-06-08</td><td>SA_REP</td><td>8600</td><td>Sales</td></tr><tr><td>177</td><td>Jack Livingston</td><td>2020-07-08</td><td>SA_REP</td><td>8400</td><td>Sales</td></tr><tr><td>178</td><td>Kimberely Grant</td><td>2021-08-08</td><td>SA_REP</td><td>7000</td><td>null</td></tr><tr><td>179</td><td>Charles Johnson</td><td>2022-03-21</td><td>SA_REP</td><td>6200</td><td>Sales</td></tr><tr><td>180</td><td>Winston Taylor</td><td>2020-04-10</td><td>SH_CLERK</td><td>3200</td><td>Shipping</td></tr><tr><td>181</td><td>Jean Fleaur</td><td>2020-05-10</td><td>SH_CLERK</td><td>3100</td><td>Shipping</td></tr><tr><td>182</td><td>Martha Sullivan</td><td>2021-09-05</td><td>SH_CLERK</td><td>2500</td><td>Shipping</td></tr><tr><td>183</td><td>Girard Geoni</td><td>2022-04-20</td><td>SH_CLERK</td><td>2800</td><td>Shipping</td></tr><tr><td>184</td><td>Nandita Sarchand</td><td>2018-04-13</td><td>SH_CLERK</td><td>4200</td><td>Shipping</td></tr><tr><td>185</td><td>Alexis Bull</td><td>2019-05-08</td><td>SH_CLERK</td><td>4100</td><td>Shipping</td></tr><tr><td>186</td><td>Julia Dellinger</td><td>2020-09-08</td><td>SH_CLERK</td><td>3400</td><td>Shipping</td></tr><tr><td>187</td><td>Anthony Cabrio</td><td>2021-04-24</td><td>SH_CLERK</td><td>3000</td><td>Shipping</td></tr><tr><td>188</td><td>Kelly Chung</td><td>2019-08-30</td><td>SH_CLERK</td><td>3800</td><td>Shipping</td></tr><tr><td>189</td><td>Jennifer Dilly</td><td>2019-10-29</td><td>SH_CLERK</td><td>3600</td><td>Shipping</td></tr><tr><td>190</td><td>Timothy Gates</td><td>2020-09-25</td><td>SH_CLERK</td><td>2900</td><td>Shipping</td></tr><tr><td>191</td><td>Randall Perkins</td><td>2022-03-05</td><td>SH_CLERK</td><td>2500</td><td>Shipping</td></tr><tr><td>192</td><td>Sarah Bell</td><td>2018-04-21</td><td>SH_CLERK</td><td>4000</td><td>Shipping</td></tr><tr><td>193</td><td>Britney Everett</td><td>2019-05-19</td><td>SH_CLERK</td><td>3900</td><td>Shipping</td></tr><tr><td>194</td><td>Samuel McCain</td><td>2020-09-15</td><td>SH_CLERK</td><td>3200</td><td>Shipping</td></tr><tr><td>195</td><td>Vance Jones</td><td>2021-06-01</td><td>SH_CLERK</td><td>2800</td><td>Shipping</td></tr><tr><td>196</td><td>Alana Walsh</td><td>2020-07-09</td><td>SH_CLERK</td><td>3100</td><td>Shipping</td></tr><tr><td>197</td><td>Kevin Feeney</td><td>2020-08-07</td><td>SH_CLERK</td><td>3000</td><td>Shipping</td></tr><tr><td>198</td><td>Donald OConnell</td><td>2021-09-05</td><td>SH_CLERK</td><td>2600</td><td>Shipping</td></tr><tr><td>199</td><td>Douglas Grant</td><td>2022-03-30</td><td>SH_CLERK</td><td>2600</td><td>Shipping</td></tr><tr><td>200</td><td>Jennifer Whalen</td><td>2009-12-02</td><td>AD_ASST</td><td>4400</td><td>Administration</td></tr><tr><td>201</td><td>Michael Hartstein</td><td>2018-05-04</td><td>MK_MAN</td><td>13000</td><td>Marketing</td></tr><tr><td>202</td><td>Pat Fay</td><td>2019-11-02</td><td>MK_REP</td><td>6000</td><td>Marketing</td></tr><tr><td>203</td><td>Susan Mavris</td><td>2016-08-22</td><td>HR_REP</td><td>6500</td><td>Human Resources</td></tr><tr><td>204</td><td>Hermann Baer</td><td>2016-08-22</td><td>PR_REP</td><td>10000</td><td>Public Relations</td></tr><tr><td>205</td><td>Shelley Higgins</td><td>2016-08-22</td><td>AC_MGR</td><td>12000</td><td>Accounting</td></tr><tr><td>206</td><td>William Gietz</td><td>2016-08-22</td><td>AC_ACCOUNT</td><td>8300</td><td>Accounting</td></tr></tbody></table></div>"
      ]
     },
     "metadata": {
      "application/vnd.databricks.v1+output": {
       "addedWidgets": {},
       "aggData": [],
       "aggError": "",
       "aggOverflow": false,
       "aggSchema": [],
       "aggSeriesLimitReached": false,
       "aggType": "",
       "arguments": {},
       "columnCustomDisplayInfos": {},
       "data": [
        [
         100,
         "Steven King",
         "2009-09-01",
         "AD_PRES",
         24000,
         "Executive"
        ],
        [
         101,
         "Neena Kochhar",
         "2011-12-07",
         "AD_VP",
         17000,
         "Executive"
        ],
        [
         102,
         "Lex De Haan",
         "2015-03-31",
         "AD_VP",
         17000,
         "Executive"
        ],
        [
         103,
         "Alexander Hunold",
         "2012-03-20",
         "IT_PROG",
         9000,
         "IT"
        ],
        [
         104,
         "Bruce Ernst",
         "2013-08-05",
         "IT_PROG",
         6000,
         "IT"
        ],
        [
         105,
         "David Austin",
         "2019-09-10",
         "IT_PROG",
         4800,
         "IT"
        ],
        [
         106,
         "Valli Pataballa",
         "2020-04-22",
         "IT_PROG",
         4800,
         "IT"
        ],
        [
         107,
         "Diana Lorentz",
         "2021-04-24",
         "IT_PROG",
         4200,
         "IT"
        ],
        [
         108,
         "Nancy Greenberg",
         "2016-11-01",
         "FI_MGR",
         12000,
         "Finance"
        ],
        [
         109,
         "Daniel Faviet",
         "2016-10-31",
         "FI_ACCOUNT",
         9000,
         "Finance"
        ],
        [
         110,
         "John Chen",
         "2019-12-14",
         "FI_ACCOUNT",
         8200,
         "Finance"
        ],
        [
         111,
         "Ismael Sciarra",
         "2019-12-16",
         "FI_ACCOUNT",
         7700,
         "Finance"
        ],
        [
         112,
         "Jose Manuel Urman",
         "2020-05-22",
         "FI_ACCOUNT",
         7800,
         "Finance"
        ],
        [
         113,
         "Luis Popp",
         "2022-02-21",
         "FI_ACCOUNT",
         6900,
         "Finance"
        ],
        [
         114,
         "Den Raphaely",
         "2017-02-21",
         "PU_MAN",
         11000,
         "Purchasing"
        ],
        [
         115,
         "Alexander Khoo",
         "2017-08-02",
         "PU_CLERK",
         3100,
         "Purchasing"
        ],
        [
         116,
         "Shelli Baida",
         "2020-03-10",
         "PU_CLERK",
         2900,
         "Purchasing"
        ],
        [
         117,
         "Sigal Tobias",
         "2019-10-09",
         "PU_CLERK",
         2800,
         "Purchasing"
        ],
        [
         118,
         "Guy Himuro",
         "2021-01-30",
         "PU_CLERK",
         2600,
         "Purchasing"
        ],
        [
         119,
         "Karen Colmenares",
         "2021-10-25",
         "PU_CLERK",
         2500,
         "Purchasing"
        ],
        [
         120,
         "Matthew Weiss",
         "2018-10-03",
         "ST_MAN",
         8000,
         "Shipping"
        ],
        [
         121,
         "Adam Fripp",
         "2019-06-26",
         "ST_MAN",
         8200,
         "Shipping"
        ],
        [
         122,
         "Payam Kaufling",
         "2017-07-16",
         "ST_MAN",
         7900,
         "Shipping"
        ],
        [
         123,
         "Shanta Vollman",
         "2019-12-26",
         "ST_MAN",
         6500,
         "Shipping"
        ],
        [
         124,
         "Kevin Mourgos",
         "2022-01-31",
         "ST_MAN",
         5800,
         "Shipping"
        ],
        [
         125,
         "Julia Nayer",
         "2019-10-01",
         "ST_CLERK",
         3200,
         "Shipping"
        ],
        [
         126,
         "Irene Mikkilineni",
         "2020-12-13",
         "ST_CLERK",
         2700,
         "Shipping"
        ],
        [
         127,
         "James Landry",
         "2021-03-31",
         "ST_CLERK",
         2400,
         "Shipping"
        ],
        [
         128,
         "Steven Markle",
         "2022-05-24",
         "ST_CLERK",
         2200,
         "Shipping"
        ],
        [
         129,
         "Laura Bissot",
         "2019-11-05",
         "ST_CLERK",
         3300,
         "Shipping"
        ],
        [
         130,
         "Mozhe Atkinson",
         "2020-01-15",
         "ST_CLERK",
         2800,
         "Shipping"
        ],
        [
         131,
         "James Marlow",
         "2019-05-04",
         "ST_CLERK",
         2500,
         "Shipping"
        ],
        [
         132,
         "TJ Olson",
         "2021-06-25",
         "ST_CLERK",
         2100,
         "Shipping"
        ],
        [
         133,
         "Jason Mallin",
         "2018-08-30",
         "ST_CLERK",
         3300,
         "Shipping"
        ],
        [
         134,
         "Michael Rogers",
         "2020-11-10",
         "ST_CLERK",
         2900,
         "Shipping"
        ],
        [
         135,
         "Ki Gee",
         "2022-02-26",
         "ST_CLERK",
         2400,
         "Shipping"
        ],
        [
         136,
         "Hazel Philtanker",
         "2022-04-23",
         "ST_CLERK",
         2200,
         "Shipping"
        ],
        [
         137,
         "Renske Ladwig",
         "2017-09-28",
         "ST_CLERK",
         3600,
         "Shipping"
        ],
        [
         138,
         "Stephen Stiles",
         "2020-01-11",
         "ST_CLERK",
         3200,
         "Shipping"
        ],
        [
         139,
         "John Seo",
         "2020-04-29",
         "ST_CLERK",
         2700,
         "Shipping"
        ],
        [
         140,
         "Joshua Patel",
         "2020-06-21",
         "ST_CLERK",
         2500,
         "Shipping"
        ],
        [
         141,
         "Trenna Rajs",
         "2018-01-01",
         "ST_CLERK",
         3500,
         "Shipping"
        ],
        [
         142,
         "Curtis Davies",
         "2019-04-16",
         "ST_CLERK",
         3100,
         "Shipping"
        ],
        [
         143,
         "Randall Matos",
         "2020-05-30",
         "ST_CLERK",
         2600,
         "Shipping"
        ],
        [
         144,
         "Peter Vargas",
         "2020-09-23",
         "ST_CLERK",
         2500,
         "Shipping"
        ],
        [
         145,
         "John Russell",
         "2018-12-17",
         "SA_MAN",
         14000,
         "Sales"
        ],
        [
         146,
         "Karen Partners",
         "2019-03-23",
         "SA_MAN",
         13500,
         "Sales"
        ],
        [
         147,
         "Alberto Errazuriz",
         "2019-05-26",
         "SA_MAN",
         12000,
         "Sales"
        ],
        [
         148,
         "Gerald Cambrault",
         "2021-12-30",
         "SA_MAN",
         11000,
         "Sales"
        ],
        [
         149,
         "Eleni Zlotkey",
         "2022-04-15",
         "SA_MAN",
         10500,
         "Sales"
        ],
        [
         150,
         "Peter Tucker",
         "2019-04-17",
         "SA_REP",
         10000,
         "Sales"
        ],
        [
         151,
         "David Bernstein",
         "2019-06-09",
         "SA_REP",
         9500,
         "Sales"
        ],
        [
         152,
         "Peter Hall",
         "2019-11-05",
         "SA_REP",
         9000,
         "Sales"
        ],
        [
         153,
         "Christopher Olsen",
         "2020-06-14",
         "SA_REP",
         8000,
         "Sales"
        ],
        [
         154,
         "Nanette Cambrault",
         "2021-02-23",
         "SA_REP",
         7500,
         "Sales"
        ],
        [
         155,
         "Oliver Tuvault",
         "2022-02-07",
         "SA_REP",
         7000,
         "Sales"
        ],
        [
         156,
         "Janette King",
         "2018-04-16",
         "SA_REP",
         10000,
         "Sales"
        ],
        [
         157,
         "Patrick Sully",
         "2018-05-20",
         "SA_REP",
         9500,
         "Sales"
        ],
        [
         158,
         "Allan McEwen",
         "2018-10-17",
         "SA_REP",
         9000,
         "Sales"
        ],
        [
         159,
         "Lindsey Smith",
         "2019-05-26",
         "SA_REP",
         8000,
         "Sales"
        ],
        [
         160,
         "Louise Doran",
         "2020-03-01",
         "SA_REP",
         7500,
         "Sales"
        ],
        [
         161,
         "Sarath Sewall",
         "2021-01-18",
         "SA_REP",
         7000,
         "Sales"
        ],
        [
         162,
         "Clara Vishney",
         "2020-01-27",
         "SA_REP",
         10500,
         "Sales"
        ],
        [
         163,
         "Danielle Greene",
         "2021-06-03",
         "SA_REP",
         9500,
         "Sales"
        ],
        [
         164,
         "Mattea Marvins",
         "2022-04-10",
         "SA_REP",
         7200,
         "Sales"
        ],
        [
         165,
         "David Lee",
         "2022-05-10",
         "SA_REP",
         6800,
         "Sales"
        ],
        [
         166,
         "Sundar Ande",
         "2022-06-09",
         "SA_REP",
         6400,
         "Sales"
        ],
        [
         167,
         "Amit Banda",
         "2022-07-07",
         "SA_REP",
         6200,
         "Sales"
        ],
        [
         168,
         "Lisa Ozer",
         "2019-05-27",
         "SA_REP",
         11500,
         "Sales"
        ],
        [
         169,
         "Harrison Bloom",
         "2020-06-07",
         "SA_REP",
         10000,
         "Sales"
        ],
        [
         170,
         "Tayler Fox",
         "2020-04-10",
         "SA_REP",
         9600,
         "Sales"
        ],
        [
         171,
         "William Smith",
         "2021-05-10",
         "SA_REP",
         7400,
         "Sales"
        ],
        [
         172,
         "Elizabeth Bates",
         "2021-06-08",
         "SA_REP",
         7300,
         "Sales"
        ],
        [
         173,
         "Sundita Kumar",
         "2022-07-07",
         "SA_REP",
         6100,
         "Sales"
        ],
        [
         174,
         "Ellen Abel",
         "2018-07-27",
         "SA_REP",
         11000,
         "Sales"
        ],
        [
         175,
         "Alyssa Hutton",
         "2019-06-04",
         "SA_REP",
         8800,
         "Sales"
        ],
        [
         176,
         "Jonathon Taylor",
         "2020-06-08",
         "SA_REP",
         8600,
         "Sales"
        ],
        [
         177,
         "Jack Livingston",
         "2020-07-08",
         "SA_REP",
         8400,
         "Sales"
        ],
        [
         178,
         "Kimberely Grant",
         "2021-08-08",
         "SA_REP",
         7000,
         null
        ],
        [
         179,
         "Charles Johnson",
         "2022-03-21",
         "SA_REP",
         6200,
         "Sales"
        ],
        [
         180,
         "Winston Taylor",
         "2020-04-10",
         "SH_CLERK",
         3200,
         "Shipping"
        ],
        [
         181,
         "Jean Fleaur",
         "2020-05-10",
         "SH_CLERK",
         3100,
         "Shipping"
        ],
        [
         182,
         "Martha Sullivan",
         "2021-09-05",
         "SH_CLERK",
         2500,
         "Shipping"
        ],
        [
         183,
         "Girard Geoni",
         "2022-04-20",
         "SH_CLERK",
         2800,
         "Shipping"
        ],
        [
         184,
         "Nandita Sarchand",
         "2018-04-13",
         "SH_CLERK",
         4200,
         "Shipping"
        ],
        [
         185,
         "Alexis Bull",
         "2019-05-08",
         "SH_CLERK",
         4100,
         "Shipping"
        ],
        [
         186,
         "Julia Dellinger",
         "2020-09-08",
         "SH_CLERK",
         3400,
         "Shipping"
        ],
        [
         187,
         "Anthony Cabrio",
         "2021-04-24",
         "SH_CLERK",
         3000,
         "Shipping"
        ],
        [
         188,
         "Kelly Chung",
         "2019-08-30",
         "SH_CLERK",
         3800,
         "Shipping"
        ],
        [
         189,
         "Jennifer Dilly",
         "2019-10-29",
         "SH_CLERK",
         3600,
         "Shipping"
        ],
        [
         190,
         "Timothy Gates",
         "2020-09-25",
         "SH_CLERK",
         2900,
         "Shipping"
        ],
        [
         191,
         "Randall Perkins",
         "2022-03-05",
         "SH_CLERK",
         2500,
         "Shipping"
        ],
        [
         192,
         "Sarah Bell",
         "2018-04-21",
         "SH_CLERK",
         4000,
         "Shipping"
        ],
        [
         193,
         "Britney Everett",
         "2019-05-19",
         "SH_CLERK",
         3900,
         "Shipping"
        ],
        [
         194,
         "Samuel McCain",
         "2020-09-15",
         "SH_CLERK",
         3200,
         "Shipping"
        ],
        [
         195,
         "Vance Jones",
         "2021-06-01",
         "SH_CLERK",
         2800,
         "Shipping"
        ],
        [
         196,
         "Alana Walsh",
         "2020-07-09",
         "SH_CLERK",
         3100,
         "Shipping"
        ],
        [
         197,
         "Kevin Feeney",
         "2020-08-07",
         "SH_CLERK",
         3000,
         "Shipping"
        ],
        [
         198,
         "Donald OConnell",
         "2021-09-05",
         "SH_CLERK",
         2600,
         "Shipping"
        ],
        [
         199,
         "Douglas Grant",
         "2022-03-30",
         "SH_CLERK",
         2600,
         "Shipping"
        ],
        [
         200,
         "Jennifer Whalen",
         "2009-12-02",
         "AD_ASST",
         4400,
         "Administration"
        ],
        [
         201,
         "Michael Hartstein",
         "2018-05-04",
         "MK_MAN",
         13000,
         "Marketing"
        ],
        [
         202,
         "Pat Fay",
         "2019-11-02",
         "MK_REP",
         6000,
         "Marketing"
        ],
        [
         203,
         "Susan Mavris",
         "2016-08-22",
         "HR_REP",
         6500,
         "Human Resources"
        ],
        [
         204,
         "Hermann Baer",
         "2016-08-22",
         "PR_REP",
         10000,
         "Public Relations"
        ],
        [
         205,
         "Shelley Higgins",
         "2016-08-22",
         "AC_MGR",
         12000,
         "Accounting"
        ],
        [
         206,
         "William Gietz",
         "2016-08-22",
         "AC_ACCOUNT",
         8300,
         "Accounting"
        ]
       ],
       "datasetInfos": [],
       "dbfsResultPath": null,
       "isJsonSchema": true,
       "metadata": {},
       "overflow": false,
       "plotOptions": {
        "customPlotOptions": {},
        "displayType": "table",
        "pivotAggregation": null,
        "pivotColumns": null,
        "xColumns": null,
        "yColumns": null
       },
       "removedWidgets": [],
       "schema": [
        {
         "metadata": "{}",
         "name": "EMPLOYEE_ID",
         "type": "\"integer\""
        },
        {
         "metadata": "{}",
         "name": "FULL_NAME",
         "type": "\"string\""
        },
        {
         "metadata": "{}",
         "name": "HIRE_DATE",
         "type": "\"date\""
        },
        {
         "metadata": "{}",
         "name": "JOB_ID",
         "type": "\"string\""
        },
        {
         "metadata": "{}",
         "name": "SALARY",
         "type": "\"integer\""
        },
        {
         "metadata": "{}",
         "name": "DEPARTMENT_NAME",
         "type": "\"string\""
        }
       ],
       "type": "table"
      }
     },
     "output_type": "display_data"
    }
   ],
   "source": [
    "display(employees)"
   ]
  }
 ],
 "metadata": {
  "application/vnd.databricks.v1+notebook": {
   "dashboards": [],
   "environmentMetadata": null,
   "language": "python",
   "notebookMetadata": {
    "pythonIndentUnit": 4
   },
   "notebookName": "Silver to Gold",
   "widgets": {}
  }
 },
 "nbformat": 4,
 "nbformat_minor": 0
}
